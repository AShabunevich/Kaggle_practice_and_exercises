{
 "metadata": {
  "language_info": {
   "codemirror_mode": {
    "name": "ipython",
    "version": 3
   },
   "file_extension": ".py",
   "mimetype": "text/x-python",
   "name": "python",
   "nbconvert_exporter": "python",
   "pygments_lexer": "ipython3",
   "version": "3.8.5-final"
  },
  "orig_nbformat": 2,
  "kernelspec": {
   "name": "python3",
   "display_name": "Python 3",
   "language": "python"
  }
 },
 "nbformat": 4,
 "nbformat_minor": 2,
 "cells": [
  {
   "cell_type": "code",
   "execution_count": 1,
   "metadata": {},
   "outputs": [],
   "source": [
    "#imported libraries\n",
    "import pandas as pd \n",
    "from sklearn.tree import DecisionTreeRegressor\n",
    "from sklearn.metrics import mean_absolute_error\n",
    "from sklearn.model_selection import train_test_split"
   ]
  },
  {
   "cell_type": "code",
   "execution_count": null,
   "metadata": {},
   "outputs": [],
   "source": [
    "\"\"\"\n",
    "Using the single \"sample\" to build model and evaluate it. Which can be seen in the output that predicted values from model and prediction target values (prices from data) are the same. The Mean Absolute Error (MAE) is relatively low, 62.35. This is \"in-sample-score\" which is not good for new data becase model might found a pattern in old data which is not in new data.\n",
    "\"\"\""
   ]
  },
  {
   "cell_type": "code",
   "execution_count": 2,
   "metadata": {},
   "outputs": [
    {
     "output_type": "stream",
     "name": "stdout",
     "text": [
      "First in-sample predictions: [208500. 181500. 223500. 140000. 250000.]\nActual target values homes: [208500, 181500, 223500, 140000, 250000]\nMAE: 62.35433789954339\n"
     ]
    }
   ],
   "source": [
    "#path to access file\n",
    "file_path = '~/Desktop/Kaggle/practice/model_validation_home_train.csv'\n",
    "#reads file\n",
    "file_data = pd.read_csv(file_path)\n",
    "\n",
    "#prediction target\n",
    "y = file_data.SalePrice\n",
    "#features that determines house price\n",
    "featured_columns = ['LotArea', 'YearBuilt', '1stFlrSF', '2ndFlrSF', 'FullBath', 'BedroomAbvGr', 'TotRmsAbvGrd']\n",
    "X = file_data[featured_columns]\n",
    "\n",
    "#specify model\n",
    "file_model = DecisionTreeRegressor(random_state=1)\n",
    "#fit model\n",
    "file_model.fit(X,y)\n",
    "\n",
    "#predicred prices using model\n",
    "predicted_prices_list1 = file_model.predict(X.head())\n",
    "print(\"First in-sample predictions:\", predicted_prices_list1)\n",
    "#actual price from data set\n",
    "actual_prices_list1 = y.head().tolist()\n",
    "print(\"Actual target values homes:\", actual_prices_list1)\n",
    "\n",
    "#MAE\n",
    "predicted_prices1 = file_model.predict(X)\n",
    "mae1 = mean_absolute_error(y, predicted_prices1)\n",
    "print('MAE:', mae1)"
   ]
  },
  {
   "cell_type": "code",
   "execution_count": null,
   "metadata": {},
   "outputs": [],
   "source": [
    "\"\"\"\n",
    "Spliting data into two data sets. One is for trining model, other for validation. The predicted prices from model that used training data set are slightly different from validation data set (prices from data). MAE is 29652.93, which is 1/6 of the mean of validation value (176725.51). Thus, this model needs improvement or tjis problem need to use different kind of model (not DecissionTreeRegressor).\n",
    "\"\"\""
   ]
  },
  {
   "cell_type": "code",
   "execution_count": 3,
   "metadata": {},
   "outputs": [
    {
     "output_type": "stream",
     "name": "stdout",
     "text": [
      "Validation prediction: [186500. 184000. 130000.  92000. 164500.]\nActual prices from validation data: [231500, 179500, 122000, 84500, 142000]\nMAE: 29652.931506849316\ncount       365.000000\nmean     176725.512329\nstd       82046.760890\nmin       40000.000000\n25%      125500.000000\n50%      160000.000000\n75%      205000.000000\nmax      745000.000000\nName: SalePrice, dtype: float64\n"
     ]
    }
   ],
   "source": [
    "#split data into training and validation\n",
    "train_X, val_X, train_y, val_y = train_test_split(X, y, random_state=1)\n",
    "\n",
    "#specify model\n",
    "fit_model = DecisionTreeRegressor(random_state=1)\n",
    "\n",
    "#fit model with trining data set\n",
    "file_model.fit(train_X, train_y)\n",
    "\n",
    "#predict validation prices based on model that used train data\n",
    "valid_predict = file_model.predict(val_X)\n",
    "\n",
    "#predicted price\n",
    "predicted_prices_list2 = file_model.predict(val_X.head())\n",
    "print(\"Validation prediction:\", predicted_prices_list2)\n",
    "#actual price\n",
    "actual_prices_list2 = val_y.head().tolist()\n",
    "print(\"Actual prices from validation data:\", actual_prices_list2)\n",
    "\n",
    "#MAE\n",
    "predicted_prices2 = file_model.predict(val_X)\n",
    "mae2 = mean_absolute_error(val_y, predicted_prices2)\n",
    "print('MAE:', mae2)\n",
    "\n",
    "#summary of target(validation) value\n",
    "print(val_y.describe())"
   ]
  },
  {
   "cell_type": "code",
   "execution_count": null,
   "metadata": {},
   "outputs": [],
   "source": []
  }
 ]
}
