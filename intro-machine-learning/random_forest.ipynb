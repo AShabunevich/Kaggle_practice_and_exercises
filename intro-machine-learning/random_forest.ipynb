{
 "metadata": {
  "language_info": {
   "codemirror_mode": {
    "name": "ipython",
    "version": 3
   },
   "file_extension": ".py",
   "mimetype": "text/x-python",
   "name": "python",
   "nbconvert_exporter": "python",
   "pygments_lexer": "ipython3",
   "version": "3.8.5-final"
  },
  "orig_nbformat": 2,
  "kernelspec": {
   "name": "python3",
   "display_name": "Python 3",
   "language": "python"
  }
 },
 "nbformat": 4,
 "nbformat_minor": 2,
 "cells": [
  {
   "source": [
    "Same code that was used in 'underfitting_overfitting'. "
   ],
   "cell_type": "markdown",
   "metadata": {}
  },
  {
   "cell_type": "code",
   "execution_count": 8,
   "metadata": {},
   "outputs": [
    {
     "output_type": "stream",
     "name": "stdout",
     "text": [
      "Validation MAE w/o best_number_leaves: 29,653\nValidation MAE w/ best_number_leaves: 27,283\n"
     ]
    }
   ],
   "source": [
    "#previously used libraries\n",
    "import pandas as pd\n",
    "from sklearn.metrics import mean_absolute_error\n",
    "from sklearn.model_selection import train_test_split\n",
    "from sklearn.tree import DecisionTreeRegressor\n",
    "\n",
    "#path to file and read file\n",
    "file_path = '~/Desktop/Kaggle/practice/Intro_Machine_Learning/model_validation_home_train.csv'\n",
    "file_data = pd.read_csv(file_path)\n",
    "\n",
    "#target object (price)\n",
    "y = file_data.SalePrice\n",
    "#features that determines house price\n",
    "features = ['LotArea', 'YearBuilt', '1stFlrSF', '2ndFlrSF', 'FullBath', 'BedroomAbvGr', 'TotRmsAbvGrd']\n",
    "X = file_data[features]\n",
    "\n",
    "#split into validation and training data\n",
    "train_X, val_X, train_y, val_y = train_test_split(X, y, random_state = 1)\n",
    "\n",
    "#specify model (Decision Tree Regressor)\n",
    "file_dtr_model = DecisionTreeRegressor(random_state=1)\n",
    "#fit model\n",
    "file_dtr_model.fit(train_X, train_y)\n",
    "\n",
    "#make validation predictions and calculate MAE\n",
    "# w/o finding best number of leaves\n",
    "val_predict = file_dtr_model.predict(val_X)\n",
    "val_mae = mean_absolute_error(val_y, val_predict)\n",
    "print('Validation MAE w/o best_number_leaves: {:,.0f}'.format(val_mae))\n",
    "\n",
    "#make another prediction and calculate MAE \n",
    "# with finding best number of leaves\n",
    "file_dtr_model = DecisionTreeRegressor(max_leaf_nodes=100, random_state=1)\n",
    "file_dtr_model.fit(train_X, train_y)\n",
    "val_predict = file_dtr_model.predict(val_X)\n",
    "val_mae = mean_absolute_error(val_y, val_predict)\n",
    "print('Validation MAE w/ best_number_leaves: {:,.0f}'.format(val_mae))"
   ]
  },
  {
   "source": [
    "Using different type of model, Random Forest. This model uses multiple trees to determine the result of MAE."
   ],
   "cell_type": "markdown",
   "metadata": {}
  },
  {
   "cell_type": "code",
   "execution_count": 11,
   "metadata": {},
   "outputs": [
    {
     "output_type": "stream",
     "name": "stdout",
     "text": [
      "Validation MAE for Random Forest: 21,857\n"
     ]
    }
   ],
   "source": [
    "#import Random Forest library\n",
    "from sklearn.ensemble import RandomForestRegressor\n",
    "\n",
    "#define model\n",
    "file_rfr_model = RandomForestRegressor(random_state=1)\n",
    "#fit model\n",
    "file_rfr_model.fit(train_X, train_y)\n",
    "\n",
    "#prediction for val_y using val_X\n",
    "rfr_predict = file_rfr_model.predict(val_X)\n",
    "#find MAE\n",
    "rfr_mae = mean_absolute_error(val_y, rfr_predict)\n",
    "print('Validation MAE for Random Forest: {:,.0f}'.format(rfr_mae))"
   ]
  },
  {
   "source": [
    "By looking at MAE result, this shows tha Random Forest model is better than Dicision Tree model for this problem."
   ],
   "cell_type": "markdown",
   "metadata": {}
  }
 ]
}