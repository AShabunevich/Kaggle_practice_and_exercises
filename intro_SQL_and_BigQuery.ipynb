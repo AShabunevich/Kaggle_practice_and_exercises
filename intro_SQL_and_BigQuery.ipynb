{
 "metadata": {
  "language_info": {
   "codemirror_mode": {
    "name": "ipython",
    "version": 3
   },
   "file_extension": ".py",
   "mimetype": "text/x-python",
   "name": "python",
   "nbconvert_exporter": "python",
   "pygments_lexer": "ipython3",
   "version": "3.8.5-final"
  },
  "orig_nbformat": 2,
  "kernelspec": {
   "name": "python3",
   "display_name": "Python 3",
   "language": "python"
  }
 },
 "nbformat": 4,
 "nbformat_minor": 2,
 "cells": [
  {
   "source": [
    "Load data and libraries."
   ],
   "cell_type": "markdown",
   "metadata": {}
  },
  {
   "cell_type": "code",
   "execution_count": 1,
   "metadata": {},
   "outputs": [],
   "source": [
    "import os\n",
    "os.environ[\"GOOGLE_APPLICATION_CREDENTIALS\"]=\"/Users/anastasiyashabunevich/Desktop/Kaggle/ashabunevich_key.json\""
   ]
  },
  {
   "cell_type": "code",
   "execution_count": 2,
   "metadata": {},
   "outputs": [],
   "source": [
    "from google.cloud import bigquery\n",
    "\n",
    "\n",
    "#create a 'Client' object\n",
    "client = bigquery.Client()\n",
    "\n",
    "#construct a reference to the 'chicago_crime' dataset\n",
    "dataset_ref = client.dataset('chicago_crime', project='bigquery-public-data')\n",
    "\n",
    "#API request - fetch the dataset\n",
    "dataset = client.get_dataset(dataset_ref)"
   ]
  },
  {
   "source": [
    "### 1) Count tables in the dataset\n",
    "\n",
    "How many tables are in the Chicago Crime dataset?\n",
    "- 1"
   ],
   "cell_type": "markdown",
   "metadata": {}
  },
  {
   "cell_type": "code",
   "execution_count": 3,
   "metadata": {},
   "outputs": [
    {
     "output_type": "stream",
     "name": "stdout",
     "text": [
      "1\n"
     ]
    }
   ],
   "source": [
    "#list all tables in the 'chicago_crime' dataset\n",
    "tables = list(client.list_tables(dataset))\n",
    "\n",
    "#print number of tables\n",
    "print(len(tables))"
   ]
  },
  {
   "source": [
    "### 2) Explore the table schema\n",
    "\n",
    "How many columns in the `crime` table have `TIMESTAMP` data?\n",
    "- 2"
   ],
   "cell_type": "markdown",
   "metadata": {}
  },
  {
   "cell_type": "code",
   "execution_count": 4,
   "metadata": {},
   "outputs": [
    {
     "output_type": "stream",
     "name": "stdout",
     "text": [
      "[SchemaField('unique_key', 'INTEGER', 'REQUIRED', 'Unique identifier for the record.', (), None), SchemaField('case_number', 'STRING', 'NULLABLE', 'The Chicago Police Department RD Number (Records Division Number), which is unique to the incident.', (), None), SchemaField('date', 'TIMESTAMP', 'NULLABLE', 'Date when the incident occurred. this is sometimes a best estimate.', (), None), SchemaField('block', 'STRING', 'NULLABLE', 'The partially redacted address where the incident occurred, placing it on the same block as the actual address.', (), None), SchemaField('iucr', 'STRING', 'NULLABLE', 'The Illinois Unifrom Crime Reporting code. This is directly linked to the Primary Type and Description. See the list of IUCR codes at https://data.cityofchicago.org/d/c7ck-438e.', (), None), SchemaField('primary_type', 'STRING', 'NULLABLE', 'The primary description of the IUCR code.', (), None), SchemaField('description', 'STRING', 'NULLABLE', 'The secondary description of the IUCR code, a subcategory of the primary description.', (), None), SchemaField('location_description', 'STRING', 'NULLABLE', 'Description of the location where the incident occurred.', (), None), SchemaField('arrest', 'BOOLEAN', 'NULLABLE', 'Indicates whether an arrest was made.', (), None), SchemaField('domestic', 'BOOLEAN', 'NULLABLE', 'Indicates whether the incident was domestic-related as defined by the Illinois Domestic Violence Act.', (), None), SchemaField('beat', 'INTEGER', 'NULLABLE', 'Indicates the beat where the incident occurred. A beat is the smallest police geographic area – each beat has a dedicated police beat car. Three to five beats make up a police sector, and three sectors make up a police district. The Chicago Police Department has 22 police districts. See the beats at https://data.cityofchicago.org/d/aerh-rz74.', (), None), SchemaField('district', 'INTEGER', 'NULLABLE', 'Indicates the police district where the incident occurred. See the districts at https://data.cityofchicago.org/d/fthy-xz3r.', (), None), SchemaField('ward', 'INTEGER', 'NULLABLE', 'The ward (City Council district) where the incident occurred. See the wards at https://data.cityofchicago.org/d/sp34-6z76.', (), None), SchemaField('community_area', 'INTEGER', 'NULLABLE', 'Indicates the community area where the incident occurred. Chicago has 77 community areas. See the community areas at https://data.cityofchicago.org/d/cauq-8yn6.', (), None), SchemaField('fbi_code', 'STRING', 'NULLABLE', \"Indicates the crime classification as outlined in the FBI's National Incident-Based Reporting System (NIBRS). See the Chicago Police Department listing of these classifications at http://gis.chicagopolice.org/clearmap_crime_sums/crime_types.html.\", (), None), SchemaField('x_coordinate', 'FLOAT', 'NULLABLE', 'The x coordinate of the location where the incident occurred in State Plane Illinois East NAD 1983 projection. This location is shifted from the actual location for partial redaction but falls on the same block.', (), None), SchemaField('y_coordinate', 'FLOAT', 'NULLABLE', 'The y coordinate of the location where the incident occurred in State Plane Illinois East NAD 1983 projection. This location is shifted from the actual location for partial redaction but falls on the same block.', (), None), SchemaField('year', 'INTEGER', 'NULLABLE', 'Year the incident occurred.', (), None), SchemaField('updated_on', 'TIMESTAMP', 'NULLABLE', 'Date and time the record was last updated.', (), None), SchemaField('latitude', 'FLOAT', 'NULLABLE', 'The latitude of the location where the incident occurred. This location is shifted from the actual location for partial redaction but falls on the same block.', (), None), SchemaField('longitude', 'FLOAT', 'NULLABLE', 'The longitude of the location where the incident occurred. This location is shifted from the actual location for partial redaction but falls on the same block.', (), None), SchemaField('location', 'STRING', 'NULLABLE', 'The location where the incident occurred in a format that allows for creation of maps and other geographic operations on this data portal. This location is shifted from the actual location for partial redaction but falls on the same block.', (), None)]\n"
     ]
    }
   ],
   "source": [
    "#construct reference to 'crime' table\n",
    "table_ref = dataset_ref.table('crime')\n",
    "\n",
    "#API request - fetch the table\n",
    "table = client.get_table(table_ref)\n",
    "\n",
    "#print info of all columns in 'crime' table\n",
    "print(table.schema)"
   ]
  },
  {
   "source": [
    "### 3) Create a crime map\n",
    "\n",
    "If you wanted to create a map with a dot at the location of each crime, what are the names of the two fields you likely need to pull out of the `crime` table to plot the crimes on a map?\n",
    "- `fields_for_plotting = ['latitude', 'longitude']`, because those columns relates to `location` column."
   ],
   "cell_type": "markdown",
   "metadata": {}
  },
  {
   "cell_type": "code",
   "execution_count": 5,
   "metadata": {},
   "outputs": [
    {
     "output_type": "execute_result",
     "data": {
      "text/plain": [
       "   unique_key case_number                      date  \\\n",
       "0    11655847    JC225438 2017-08-01 00:00:00+00:00   \n",
       "1    10268344    HY455553 2015-10-09 13:28:00+00:00   \n",
       "2    10290438    HY478446 2015-09-29 09:00:00+00:00   \n",
       "3    10135017    HY323457 2015-07-01 00:01:00+00:00   \n",
       "4    10185652    HY373147 2015-08-07 17:00:00+00:00   \n",
       "\n",
       "                       block  iucr        primary_type  \\\n",
       "0            062XX W 64TH PL  1153  DECEPTIVE PRACTICE   \n",
       "1  081XX S SOUTH CHICAGO AVE  2021           NARCOTICS   \n",
       "2   095XX S STONY ISLAND AVE  1153  DECEPTIVE PRACTICE   \n",
       "3            071XX W 63RD PL  1156  DECEPTIVE PRACTICE   \n",
       "4            012XX E 83RD ST  0880               THEFT   \n",
       "\n",
       "                           description      location_description  arrest  \\\n",
       "0  FINANCIAL IDENTITY THEFT OVER $ 300                 APARTMENT   False   \n",
       "1                    POSS: BARBITUATES  SCHOOL, PUBLIC, BUILDING    True   \n",
       "2  FINANCIAL IDENTITY THEFT OVER $ 300                      BANK   False   \n",
       "3   ATTEMPT - FINANCIAL IDENTITY THEFT                 RESIDENCE   False   \n",
       "4                      PURSE-SNATCHING             PARK PROPERTY   False   \n",
       "\n",
       "   domestic  ...  ward  community_area  fbi_code  x_coordinate y_coordinate  \\\n",
       "0     False  ...    23              64        11           NaN          NaN   \n",
       "1     False  ...     8              45        18     1190162.0    1851155.0   \n",
       "2     False  ...     8              50        11     1188503.0    1842146.0   \n",
       "3     False  ...    23              64        11     1130021.0    1861592.0   \n",
       "4     False  ...     8              45        06     1185821.0    1850204.0   \n",
       "\n",
       "   year                updated_on   latitude  longitude  \\\n",
       "0  2017 2019-04-16 16:21:50+00:00        NaN        NaN   \n",
       "1  2015 2018-02-10 15:50:01+00:00  41.746600 -87.578771   \n",
       "2  2015 2018-02-10 15:50:01+00:00  41.721918 -87.585137   \n",
       "3  2015 2018-02-10 15:50:01+00:00  41.776477 -87.798908   \n",
       "4  2015 2018-02-10 15:50:01+00:00  41.744094 -87.594707   \n",
       "\n",
       "                        location  \n",
       "0                           None  \n",
       "1  (41.746600212, -87.578771154)  \n",
       "2  (41.721918366, -87.585137009)  \n",
       "3  (41.776477369, -87.798908424)  \n",
       "4  (41.744093932, -87.594707324)  \n",
       "\n",
       "[5 rows x 22 columns]"
      ],
      "text/html": "<div>\n<style scoped>\n    .dataframe tbody tr th:only-of-type {\n        vertical-align: middle;\n    }\n\n    .dataframe tbody tr th {\n        vertical-align: top;\n    }\n\n    .dataframe thead th {\n        text-align: right;\n    }\n</style>\n<table border=\"1\" class=\"dataframe\">\n  <thead>\n    <tr style=\"text-align: right;\">\n      <th></th>\n      <th>unique_key</th>\n      <th>case_number</th>\n      <th>date</th>\n      <th>block</th>\n      <th>iucr</th>\n      <th>primary_type</th>\n      <th>description</th>\n      <th>location_description</th>\n      <th>arrest</th>\n      <th>domestic</th>\n      <th>...</th>\n      <th>ward</th>\n      <th>community_area</th>\n      <th>fbi_code</th>\n      <th>x_coordinate</th>\n      <th>y_coordinate</th>\n      <th>year</th>\n      <th>updated_on</th>\n      <th>latitude</th>\n      <th>longitude</th>\n      <th>location</th>\n    </tr>\n  </thead>\n  <tbody>\n    <tr>\n      <th>0</th>\n      <td>11655847</td>\n      <td>JC225438</td>\n      <td>2017-08-01 00:00:00+00:00</td>\n      <td>062XX W 64TH PL</td>\n      <td>1153</td>\n      <td>DECEPTIVE PRACTICE</td>\n      <td>FINANCIAL IDENTITY THEFT OVER $ 300</td>\n      <td>APARTMENT</td>\n      <td>False</td>\n      <td>False</td>\n      <td>...</td>\n      <td>23</td>\n      <td>64</td>\n      <td>11</td>\n      <td>NaN</td>\n      <td>NaN</td>\n      <td>2017</td>\n      <td>2019-04-16 16:21:50+00:00</td>\n      <td>NaN</td>\n      <td>NaN</td>\n      <td>None</td>\n    </tr>\n    <tr>\n      <th>1</th>\n      <td>10268344</td>\n      <td>HY455553</td>\n      <td>2015-10-09 13:28:00+00:00</td>\n      <td>081XX S SOUTH CHICAGO AVE</td>\n      <td>2021</td>\n      <td>NARCOTICS</td>\n      <td>POSS: BARBITUATES</td>\n      <td>SCHOOL, PUBLIC, BUILDING</td>\n      <td>True</td>\n      <td>False</td>\n      <td>...</td>\n      <td>8</td>\n      <td>45</td>\n      <td>18</td>\n      <td>1190162.0</td>\n      <td>1851155.0</td>\n      <td>2015</td>\n      <td>2018-02-10 15:50:01+00:00</td>\n      <td>41.746600</td>\n      <td>-87.578771</td>\n      <td>(41.746600212, -87.578771154)</td>\n    </tr>\n    <tr>\n      <th>2</th>\n      <td>10290438</td>\n      <td>HY478446</td>\n      <td>2015-09-29 09:00:00+00:00</td>\n      <td>095XX S STONY ISLAND AVE</td>\n      <td>1153</td>\n      <td>DECEPTIVE PRACTICE</td>\n      <td>FINANCIAL IDENTITY THEFT OVER $ 300</td>\n      <td>BANK</td>\n      <td>False</td>\n      <td>False</td>\n      <td>...</td>\n      <td>8</td>\n      <td>50</td>\n      <td>11</td>\n      <td>1188503.0</td>\n      <td>1842146.0</td>\n      <td>2015</td>\n      <td>2018-02-10 15:50:01+00:00</td>\n      <td>41.721918</td>\n      <td>-87.585137</td>\n      <td>(41.721918366, -87.585137009)</td>\n    </tr>\n    <tr>\n      <th>3</th>\n      <td>10135017</td>\n      <td>HY323457</td>\n      <td>2015-07-01 00:01:00+00:00</td>\n      <td>071XX W 63RD PL</td>\n      <td>1156</td>\n      <td>DECEPTIVE PRACTICE</td>\n      <td>ATTEMPT - FINANCIAL IDENTITY THEFT</td>\n      <td>RESIDENCE</td>\n      <td>False</td>\n      <td>False</td>\n      <td>...</td>\n      <td>23</td>\n      <td>64</td>\n      <td>11</td>\n      <td>1130021.0</td>\n      <td>1861592.0</td>\n      <td>2015</td>\n      <td>2018-02-10 15:50:01+00:00</td>\n      <td>41.776477</td>\n      <td>-87.798908</td>\n      <td>(41.776477369, -87.798908424)</td>\n    </tr>\n    <tr>\n      <th>4</th>\n      <td>10185652</td>\n      <td>HY373147</td>\n      <td>2015-08-07 17:00:00+00:00</td>\n      <td>012XX E 83RD ST</td>\n      <td>0880</td>\n      <td>THEFT</td>\n      <td>PURSE-SNATCHING</td>\n      <td>PARK PROPERTY</td>\n      <td>False</td>\n      <td>False</td>\n      <td>...</td>\n      <td>8</td>\n      <td>45</td>\n      <td>06</td>\n      <td>1185821.0</td>\n      <td>1850204.0</td>\n      <td>2015</td>\n      <td>2018-02-10 15:50:01+00:00</td>\n      <td>41.744094</td>\n      <td>-87.594707</td>\n      <td>(41.744093932, -87.594707324)</td>\n    </tr>\n  </tbody>\n</table>\n<p>5 rows × 22 columns</p>\n</div>"
     },
     "metadata": {},
     "execution_count": 5
    }
   ],
   "source": [
    "#first five lines of the 'crime' table\n",
    "client.list_rows(table, max_results=5).to_dataframe()"
   ]
  },
  {
   "cell_type": "code",
   "execution_count": null,
   "metadata": {},
   "outputs": [],
   "source": []
  }
 ]
}