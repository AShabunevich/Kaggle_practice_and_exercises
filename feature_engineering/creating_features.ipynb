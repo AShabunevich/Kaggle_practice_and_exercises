{
 "cells": [
  {
   "cell_type": "code",
   "execution_count": 1,
   "metadata": {},
   "outputs": [],
   "source": [
    "import numpy as np\n",
    "import pandas as pd\n",
    "from sklearn.model_selection import cross_val_score\n",
    "from xgboost import XGBRegressor\n",
    "\n",
    "\n",
    "def score_dataset(X, y, model=XGBRegressor()):\n",
    "    # Label encoding for categoricals\n",
    "    for colname in X.select_dtypes([\"category\", \"object\"]):\n",
    "        X[colname], _ = X[colname].factorize()\n",
    "    # Metric for Housing competition is RMSLE (Root Mean Squared Log Error)\n",
    "    score = cross_val_score(\n",
    "        model, X, y, cv=5, scoring=\"neg_mean_squared_log_error\",\n",
    "    )\n",
    "    score = -1 * score.mean()\n",
    "    score = np.sqrt(score)\n",
    "    return score\n",
    "\n",
    "\n",
    "# Prepare data\n",
    "df = pd.read_csv(\"~/Desktop/Kaggle/practice/Feature_Engineering/ames.csv\")\n",
    "X = df.copy()\n",
    "y = X.pop(\"SalePrice\")\n"
   ]
  },
  {
   "cell_type": "code",
   "execution_count": 5,
   "metadata": {},
   "outputs": [
    {
     "data": {
      "text/html": "<div>\n<style scoped>\n    .dataframe tbody tr th:only-of-type {\n        vertical-align: middle;\n    }\n\n    .dataframe tbody tr th {\n        vertical-align: top;\n    }\n\n    .dataframe thead th {\n        text-align: right;\n    }\n</style>\n<table border=\"1\" class=\"dataframe\">\n  <thead>\n    <tr style=\"text-align: right;\">\n      <th></th>\n      <th>MSSubClass</th>\n      <th>MSZoning</th>\n      <th>LotFrontage</th>\n      <th>LotArea</th>\n      <th>Street</th>\n      <th>Alley</th>\n      <th>LotShape</th>\n      <th>LandContour</th>\n      <th>Utilities</th>\n      <th>LotConfig</th>\n      <th>...</th>\n      <th>PoolArea</th>\n      <th>PoolQC</th>\n      <th>Fence</th>\n      <th>MiscFeature</th>\n      <th>MiscVal</th>\n      <th>MoSold</th>\n      <th>YearSold</th>\n      <th>SaleType</th>\n      <th>SaleCondition</th>\n      <th>SalePrice</th>\n    </tr>\n  </thead>\n  <tbody>\n    <tr>\n      <th>0</th>\n      <td>One_Story_1946_and_Newer_All_Styles</td>\n      <td>Residential_Low_Density</td>\n      <td>141.0</td>\n      <td>31770.0</td>\n      <td>Pave</td>\n      <td>No_Alley_Access</td>\n      <td>Slightly_Irregular</td>\n      <td>Lvl</td>\n      <td>AllPub</td>\n      <td>Corner</td>\n      <td>...</td>\n      <td>0.0</td>\n      <td>No_Pool</td>\n      <td>No_Fence</td>\n      <td>None</td>\n      <td>0.0</td>\n      <td>5</td>\n      <td>2010</td>\n      <td>WD</td>\n      <td>Normal</td>\n      <td>215000</td>\n    </tr>\n    <tr>\n      <th>1</th>\n      <td>One_Story_1946_and_Newer_All_Styles</td>\n      <td>Residential_High_Density</td>\n      <td>80.0</td>\n      <td>11622.0</td>\n      <td>Pave</td>\n      <td>No_Alley_Access</td>\n      <td>Regular</td>\n      <td>Lvl</td>\n      <td>AllPub</td>\n      <td>Inside</td>\n      <td>...</td>\n      <td>0.0</td>\n      <td>No_Pool</td>\n      <td>Minimum_Privacy</td>\n      <td>None</td>\n      <td>0.0</td>\n      <td>6</td>\n      <td>2010</td>\n      <td>WD</td>\n      <td>Normal</td>\n      <td>105000</td>\n    </tr>\n    <tr>\n      <th>2</th>\n      <td>One_Story_1946_and_Newer_All_Styles</td>\n      <td>Residential_Low_Density</td>\n      <td>81.0</td>\n      <td>14267.0</td>\n      <td>Pave</td>\n      <td>No_Alley_Access</td>\n      <td>Slightly_Irregular</td>\n      <td>Lvl</td>\n      <td>AllPub</td>\n      <td>Corner</td>\n      <td>...</td>\n      <td>0.0</td>\n      <td>No_Pool</td>\n      <td>No_Fence</td>\n      <td>Gar2</td>\n      <td>12500.0</td>\n      <td>6</td>\n      <td>2010</td>\n      <td>WD</td>\n      <td>Normal</td>\n      <td>172000</td>\n    </tr>\n    <tr>\n      <th>3</th>\n      <td>One_Story_1946_and_Newer_All_Styles</td>\n      <td>Residential_Low_Density</td>\n      <td>93.0</td>\n      <td>11160.0</td>\n      <td>Pave</td>\n      <td>No_Alley_Access</td>\n      <td>Regular</td>\n      <td>Lvl</td>\n      <td>AllPub</td>\n      <td>Corner</td>\n      <td>...</td>\n      <td>0.0</td>\n      <td>No_Pool</td>\n      <td>No_Fence</td>\n      <td>None</td>\n      <td>0.0</td>\n      <td>4</td>\n      <td>2010</td>\n      <td>WD</td>\n      <td>Normal</td>\n      <td>244000</td>\n    </tr>\n    <tr>\n      <th>4</th>\n      <td>Two_Story_1946_and_Newer</td>\n      <td>Residential_Low_Density</td>\n      <td>74.0</td>\n      <td>13830.0</td>\n      <td>Pave</td>\n      <td>No_Alley_Access</td>\n      <td>Slightly_Irregular</td>\n      <td>Lvl</td>\n      <td>AllPub</td>\n      <td>Inside</td>\n      <td>...</td>\n      <td>0.0</td>\n      <td>No_Pool</td>\n      <td>Minimum_Privacy</td>\n      <td>None</td>\n      <td>0.0</td>\n      <td>3</td>\n      <td>2010</td>\n      <td>WD</td>\n      <td>Normal</td>\n      <td>189900</td>\n    </tr>\n  </tbody>\n</table>\n<p>5 rows × 79 columns</p>\n</div>",
      "text/plain": "                            MSSubClass                  MSZoning  LotFrontage  \\\n0  One_Story_1946_and_Newer_All_Styles   Residential_Low_Density        141.0   \n1  One_Story_1946_and_Newer_All_Styles  Residential_High_Density         80.0   \n2  One_Story_1946_and_Newer_All_Styles   Residential_Low_Density         81.0   \n3  One_Story_1946_and_Newer_All_Styles   Residential_Low_Density         93.0   \n4             Two_Story_1946_and_Newer   Residential_Low_Density         74.0   \n\n   LotArea Street            Alley            LotShape LandContour Utilities  \\\n0  31770.0   Pave  No_Alley_Access  Slightly_Irregular         Lvl    AllPub   \n1  11622.0   Pave  No_Alley_Access             Regular         Lvl    AllPub   \n2  14267.0   Pave  No_Alley_Access  Slightly_Irregular         Lvl    AllPub   \n3  11160.0   Pave  No_Alley_Access             Regular         Lvl    AllPub   \n4  13830.0   Pave  No_Alley_Access  Slightly_Irregular         Lvl    AllPub   \n\n  LotConfig  ... PoolArea   PoolQC            Fence MiscFeature  MiscVal  \\\n0    Corner  ...      0.0  No_Pool         No_Fence        None      0.0   \n1    Inside  ...      0.0  No_Pool  Minimum_Privacy        None      0.0   \n2    Corner  ...      0.0  No_Pool         No_Fence        Gar2  12500.0   \n3    Corner  ...      0.0  No_Pool         No_Fence        None      0.0   \n4    Inside  ...      0.0  No_Pool  Minimum_Privacy        None      0.0   \n\n  MoSold YearSold SaleType  SaleCondition  SalePrice  \n0      5     2010      WD          Normal     215000  \n1      6     2010      WD          Normal     105000  \n2      6     2010      WD          Normal     172000  \n3      4     2010      WD          Normal     244000  \n4      3     2010      WD          Normal     189900  \n\n[5 rows x 79 columns]"
     },
     "execution_count": 5,
     "metadata": {},
     "output_type": "execute_result"
    }
   ],
   "source": [
    "df.head()"
   ]
  },
  {
   "cell_type": "markdown",
   "metadata": {},
   "source": [
    "# 1) Create Mathematical Transforms\n",
    "\n",
    "Create the following features:\n",
    "\n",
    "- `LivLotRatio`: the ratio of `GrLivArea` to `LotArea`\n",
    "- `Spaciousness`: the sum of `FirstFlrSF` and `SecondFlrSF` divided by `TotRmsAbvGrd`\n",
    "- `TotalOutsideSF`: the sum of `WoodDeckSF`, `OpenPorchSF`, `EnclosedPorch`, `Threeseasonporch`, and `ScreenPorch`"
   ]
  },
  {
   "cell_type": "code",
   "execution_count": 3,
   "metadata": {},
   "outputs": [
    {
     "name": "stdout",
     "output_type": "stream",
     "text": [
      "   LivLotRatio  Spaciousness  TotalOutsideSF\n",
      "0     0.052125    236.571429           272.0\n",
      "1     0.077095    179.200000           260.0\n",
      "2     0.093152    221.500000           429.0\n",
      "3     0.189068    263.750000             0.0\n",
      "4     0.117787    271.500000           246.0\n"
     ]
    }
   ],
   "source": [
    "#new dataframe to hold new features\n",
    "X_1 = pd.DataFrame()\n",
    "\n",
    "X_1[\"LivLotRatio\"] = df.GrLivArea / df.LotArea\n",
    "X_1[\"Spaciousness\"] = (df.FirstFlrSF + df.SecondFlrSF) / df.TotRmsAbvGrd\n",
    "X_1[\"TotalOutsideSF\"] = df.WoodDeckSF + df.OpenPorchSF + df.EnclosedPorch + df.Threeseasonporch + df.ScreenPorch\n",
    "\n",
    "print(X_1.head())"
   ]
  },
  {
   "cell_type": "markdown",
   "metadata": {},
   "source": [
    "-------------------------------------------------------------------------------\n",
    "\n",
    "If you've discovered an interaction effect between a numeric feature and a categorical feature, you might want to model it explicitly using a one-hot encoding, like so:\n",
    "\n",
    "```\n",
    "# One-hot encode Categorical feature, adding a column prefix \"Cat\"\n",
    "X_new = pd.get_dummies(df.Categorical, prefix=\"Cat\")\n",
    "\n",
    "# Multiply row-by-row\n",
    "X_new = X_new.mul(df.Continuous, axis=0)\n",
    "\n",
    "# Join the new features to the feature set\n",
    "X = X.join(X_new)\n",
    "```\n",
    "\n",
    "# 2) Interaction with a Categorical\n",
    "\n",
    "We discovered an interaction between `BldgType` and `GrLivArea` in Exercise 2. Now create their interaction features."
   ]
  },
  {
   "cell_type": "code",
   "execution_count": 6,
   "metadata": {},
   "outputs": [
    {
     "name": "stdout",
     "output_type": "stream",
     "text": [
      "   Bldg_Duplex  Bldg_OneFam  Bldg_Twnhs  Bldg_TwnhsE  Bldg_TwoFmCon\n",
      "0          0.0       1656.0         0.0          0.0            0.0\n",
      "1          0.0        896.0         0.0          0.0            0.0\n",
      "2          0.0       1329.0         0.0          0.0            0.0\n",
      "3          0.0       2110.0         0.0          0.0            0.0\n",
      "4          0.0       1629.0         0.0          0.0            0.0\n"
     ]
    }
   ],
   "source": [
    "# One-hot encode BldgType. Use `prefix=\"Bldg\"` in `get_dummies`\n",
    "X_2 = pd.get_dummies(df.BldgType, prefix=\"Bldg\")\n",
    "# Multiply\n",
    "X_2 = X_2.mul(df.GrLivArea, axis=0)\n",
    "\n",
    "print(X_2.head())\n"
   ]
  },
  {
   "cell_type": "markdown",
   "metadata": {},
   "source": [
    "# 3) Count Feature\n",
    "\n",
    "Let's try creating a feature that describes how many kinds of outdoor areas a dwelling has. Create a feature `PorchTypes` that counts how many of the following are greater than 0.0:\n",
    "\n",
    "```\n",
    "WoodDeckSF\n",
    "OpenPorchSF\n",
    "EnclosedPorch\n",
    "Threeseasonporch\n",
    "ScreenPorch\n",
    "```"
   ]
  },
  {
   "cell_type": "code",
   "execution_count": 10,
   "metadata": {},
   "outputs": [
    {
     "name": "stdout",
     "output_type": "stream",
     "text": [
      "   PorchTypes\n",
      "0           2\n",
      "1           2\n",
      "2           2\n",
      "3           0\n",
      "4           2\n"
     ]
    }
   ],
   "source": [
    "X_3 = pd.DataFrame()\n",
    "\n",
    "X_3[\"PorchTypes\"] = df[[\"WoodDeckSF\", \"OpenPorchSF\", \"EnclosedPorch\", \"Threeseasonporch\", \"ScreenPorch\"]].gt(0.0).sum(axis=1)\n",
    "\n",
    "print(X_3.head())"
   ]
  },
  {
   "cell_type": "markdown",
   "metadata": {},
   "source": [
    "# 4) Break Down a Categorical Feature\n",
    "\n",
    "`MSSubClass` describes the type of a dwelling:"
   ]
  },
  {
   "cell_type": "code",
   "execution_count": 11,
   "metadata": {},
   "outputs": [
    {
     "data": {
      "text/plain": "array(['One_Story_1946_and_Newer_All_Styles', 'Two_Story_1946_and_Newer',\n       'One_Story_PUD_1946_and_Newer',\n       'One_and_Half_Story_Finished_All_Ages', 'Split_Foyer',\n       'Two_Story_PUD_1946_and_Newer', 'Split_or_Multilevel',\n       'One_Story_1945_and_Older', 'Duplex_All_Styles_and_Ages',\n       'Two_Family_conversion_All_Styles_and_Ages',\n       'One_and_Half_Story_Unfinished_All_Ages',\n       'Two_Story_1945_and_Older', 'Two_and_Half_Story_All_Ages',\n       'One_Story_with_Finished_Attic_All_Ages',\n       'PUD_Multilevel_Split_Level_Foyer',\n       'One_and_Half_Story_PUD_All_Ages'], dtype=object)"
     },
     "execution_count": 11,
     "metadata": {},
     "output_type": "execute_result"
    }
   ],
   "source": [
    "df.MSSubClass.unique()"
   ]
  },
  {
   "cell_type": "markdown",
   "metadata": {},
   "source": [
    "You can see that there is a more general categorization described (roughly) by the first word of each category. Create a feature containing only these first words by splitting `MSSubClass` at the first underscore `_`. (Hint: In the `split` method use an argument `n=1`.)"
   ]
  },
  {
   "cell_type": "code",
   "execution_count": 12,
   "metadata": {},
   "outputs": [
    {
     "name": "stdout",
     "output_type": "stream",
     "text": [
      "  MSClass\n",
      "0     One\n",
      "1     One\n",
      "2     One\n",
      "3     One\n",
      "4     Two\n"
     ]
    }
   ],
   "source": [
    "X_4 = pd.DataFrame()\n",
    "\n",
    "X_4[\"MSClass\"] = df.MSSubClass.str.split(\"_\", n=1, expand=True)[0]\n",
    "\n",
    "print(X_4.head())"
   ]
  },
  {
   "cell_type": "markdown",
   "metadata": {},
   "source": [
    "# 5) Use a Grouped Transform\n",
    "\n",
    "The value of a home often depends on how it compares to typical homes in its neighborhood. Create a feature `MedNhbdArea` that describes the *median* of `GrLivArea` grouped on `Neighborhood`."
   ]
  },
  {
   "cell_type": "code",
   "execution_count": 13,
   "metadata": {},
   "outputs": [
    {
     "name": "stdout",
     "output_type": "stream",
     "text": [
      "   MedNhbdArea\n",
      "0       1200.0\n",
      "1       1200.0\n",
      "2       1200.0\n",
      "3       1200.0\n",
      "4       1560.0\n"
     ]
    }
   ],
   "source": [
    "X_5 = pd.DataFrame()\n",
    "\n",
    "X_5[\"MedNhbdArea\"] = df.groupby(\"Neighborhood\")[\"GrLivArea\"].transform(\"median\")\n",
    "\n",
    "print(X_5.head())"
   ]
  },
  {
   "cell_type": "markdown",
   "metadata": {},
   "source": [
    "Now you've made your first new feature set! If you like, you can run the cell below to score the model with all of your new features added:"
   ]
  },
  {
   "cell_type": "code",
   "execution_count": 14,
   "metadata": {},
   "outputs": [
    {
     "data": {
      "text/plain": "0.13847331622461567"
     },
     "execution_count": 14,
     "metadata": {},
     "output_type": "execute_result"
    }
   ],
   "source": [
    "X_new = X.join([X_1, X_2, X_3, X_4, X_5])\n",
    "score_dataset(X_new, y)"
   ]
  }
 ],
 "metadata": {
  "kernelspec": {
   "display_name": "Python 3.9.1 64-bit",
   "metadata": {
    "interpreter": {
     "hash": "aee8b7b246df8f9039afb4144a1f6fd8d2ca17a180786b69acc140d282b71a49"
    }
   },
   "name": "python3"
  },
  "language_info": {
   "codemirror_mode": {
    "name": "ipython",
    "version": 3
   },
   "file_extension": ".py",
   "mimetype": "text/x-python",
   "name": "python",
   "nbconvert_exporter": "python",
   "pygments_lexer": "ipython3",
   "version": "3.9.1"
  },
  "orig_nbformat": 2
 },
 "nbformat": 4,
 "nbformat_minor": 2
}