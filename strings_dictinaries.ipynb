{
 "metadata": {
  "language_info": {
   "codemirror_mode": {
    "name": "ipython",
    "version": 3
   },
   "file_extension": ".py",
   "mimetype": "text/x-python",
   "name": "python",
   "nbconvert_exporter": "python",
   "pygments_lexer": "ipython3",
   "version": "3.7.4-final"
  },
  "orig_nbformat": 2,
  "kernelspec": {
   "name": "python3",
   "display_name": "Python 3",
   "language": "python"
  }
 },
 "nbformat": 4,
 "nbformat_minor": 2,
 "cells": [
  {
   "cell_type": "code",
   "execution_count": null,
   "metadata": {},
   "outputs": [],
   "source": [
    "'''\n",
    "A researcher has gathered thousands of news articles. But she wants to focus her attention on articles including a specific word.\n",
    "'''"
   ]
  },
  {
   "cell_type": "code",
   "execution_count": 3,
   "metadata": {},
   "outputs": [
    {
     "output_type": "execute_result",
     "data": {
      "text/plain": [
       "[0, 2]"
      ]
     },
     "metadata": {},
     "execution_count": 3
    }
   ],
   "source": [
    "def word_search(documents, keyword):\n",
    "    indices = []\n",
    "\n",
    "    # Iterate through the indices (i) and elements (doc) of documents\n",
    "    for i, doc in enumerate(documents):\n",
    "\n",
    "        # Split the string doc into a list of words\n",
    "        tokens = doc.split()\n",
    "\n",
    "        # removes ',' and '.'\n",
    "        # sets all to lowercase\n",
    "        normalized = [token.rstrip('.,').lower() for token in tokens]\n",
    "\n",
    "        # finds match and updates its indices\n",
    "        if keyword.lower() in normalized:\n",
    "            indices.append(i)\n",
    "            \n",
    "    return indices\n",
    "\n",
    "\n",
    "doc_list = [\"The Learn Python Challenge Casino.\",\n",
    "            \"They bought a car\", \"Casinoville casino\"]\n",
    "word_search(doc_list, 'casino')"
   ]
  },
  {
   "cell_type": "code",
   "execution_count": null,
   "metadata": {},
   "outputs": [],
   "source": [
    "'''\n",
    "Now the researcher wants to supply multiple keywords to search for.\n",
    "'''"
   ]
  },
  {
   "cell_type": "code",
   "execution_count": 4,
   "metadata": {},
   "outputs": [
    {
     "output_type": "execute_result",
     "data": {
      "text/plain": [
       "{'they': [1], 'casino': [0, 2]}"
      ]
     },
     "metadata": {},
     "execution_count": 4
    }
   ],
   "source": [
    "def multi_word_search(documents, keywords):\n",
    "    #empty dictinary\n",
    "    keyword_to_indices = {} \n",
    "\n",
    "    #go through each keyword\n",
    "    for keyword in keywords:\n",
    "\n",
    "        #populates empty dictinary with key-value pairs\n",
    "        #uses other function 'word_search'\n",
    "        keyword_to_indices[keyword] = word_search(documents, keyword)\n",
    "    return keyword_to_indices\n",
    "\n",
    "\n",
    "doc_list = [\"The Learn Python Challenge Casino.\",\n",
    "            \"They bought a car\", \"Casinoville casino\"]\n",
    "words = ['they', 'casino']\n",
    "multi_word_search(doc_list, words)"
   ]
  },
  {
   "cell_type": "code",
   "execution_count": null,
   "metadata": {},
   "outputs": [],
   "source": []
  }
 ]
}