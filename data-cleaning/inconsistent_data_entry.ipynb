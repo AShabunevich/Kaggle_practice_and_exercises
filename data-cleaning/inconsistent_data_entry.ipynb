{
 "metadata": {
  "language_info": {
   "codemirror_mode": {
    "name": "ipython",
    "version": 3
   },
   "file_extension": ".py",
   "mimetype": "text/x-python",
   "name": "python",
   "nbconvert_exporter": "python",
   "pygments_lexer": "ipython3",
   "version": "3.8.5-final"
  },
  "orig_nbformat": 2,
  "kernelspec": {
   "name": "python3",
   "display_name": "Python 3",
   "language": "python"
  }
 },
 "nbformat": 4,
 "nbformat_minor": 2,
 "cells": [
  {
   "source": [
    "Load libraries and data set."
   ],
   "cell_type": "markdown",
   "metadata": {}
  },
  {
   "cell_type": "code",
   "execution_count": 1,
   "metadata": {},
   "outputs": [],
   "source": [
    "# modules we'll use\n",
    "import pandas as pd\n",
    "import numpy as np\n",
    "\n",
    "# helpful modules\n",
    "import fuzzywuzzy\n",
    "from fuzzywuzzy import process\n",
    "import chardet\n",
    "\n",
    "# read in all our data\n",
    "professors = pd.read_csv(\"~/Desktop/Kaggle/practice/Data_Cleaning/pakistan_intellectual_capital.csv\")\n",
    "\n",
    "# set seed for reproducibility\n",
    "np.random.seed(0)"
   ]
  },
  {
   "source": [
    "Function to replace rows in the provided column of the provided dataframe that match the provided string above the provided ratio with the provided string."
   ],
   "cell_type": "markdown",
   "metadata": {}
  },
  {
   "cell_type": "code",
   "execution_count": 2,
   "metadata": {},
   "outputs": [
    {
     "output_type": "stream",
     "name": "stdout",
     "text": [
      "All done!\n"
     ]
    }
   ],
   "source": [
    "# convert to lower case\n",
    "professors['Country'] = professors['Country'].str.lower()\n",
    "# remove trailing white spaces\n",
    "professors['Country'] = professors['Country'].str.strip()\n",
    "\n",
    "# get the top 10 closest matches to \"south korea\"\n",
    "countries = professors['Country'].unique()\n",
    "matches = fuzzywuzzy.process.extract(\"south korea\", countries, limit=10, scorer=fuzzywuzzy.fuzz.token_sort_ratio)\n",
    "\n",
    "def replace_matches_in_column(df, column, string_to_match, min_ratio = 47):\n",
    "    # get a list of unique strings\n",
    "    strings = df[column].unique()\n",
    "    \n",
    "    # get the top 10 closest matches to our input string\n",
    "    matches = fuzzywuzzy.process.extract(string_to_match, strings, \n",
    "                                         limit=10, scorer=fuzzywuzzy.fuzz.token_sort_ratio)\n",
    "\n",
    "    # only get matches with a ratio > 90\n",
    "    close_matches = [matches[0] for matches in matches if matches[1] >= min_ratio]\n",
    "\n",
    "    # get the rows of all the close matches in our dataframe\n",
    "    rows_with_matches = df[column].isin(close_matches)\n",
    "\n",
    "    # replace all rows with close matches with the input matches \n",
    "    df.loc[rows_with_matches, column] = string_to_match\n",
    "    \n",
    "    # let us know the function's done\n",
    "    print(\"All done!\")\n",
    "    \n",
    "replace_matches_in_column(df=professors, column='Country', string_to_match=\"south korea\")\n",
    "countries = professors['Country'].unique()"
   ]
  },
  {
   "source": [
    "# 1) Examine another column\n",
    "\n",
    "Write code below to take a look at all the unique values in the \"Graduated from\" column."
   ],
   "cell_type": "markdown",
   "metadata": {}
  },
  {
   "cell_type": "code",
   "execution_count": 3,
   "metadata": {},
   "outputs": [
    {
     "output_type": "stream",
     "name": "stdout",
     "text": [
      "[' Columbia University' ' Delft University of Technology'\n ' Iowa State University' ' University of Central Florida'\n ' University of Innsbruck' ' University of Texas at Arlington (UTA)'\n ' University of Turin' 'Abasyn University'\n 'Abdul Wali Khan University, Mardan'\n 'Abdus Salam School of Mathematical Sciences,GC University'\n 'Agricultural University Peshawar' 'Allama Iqbal Open University'\n 'Asian Institute of Technology' 'Aston University, Birmingham'\n 'Australian National University, Caneberra' 'BUKC'\n 'Bahauddin Zakariya University' 'Bahria University'\n 'Bahria University,Islamabad'\n 'Balochistan University of Information Technology, Engineering and Management Sciences'\n 'Barani Institute of Information Technology'\n 'Beaconhouse National University' 'Beihang University'\n 'Beijing Institute of Technology'\n 'Beijing Institute of Technology Beijing'\n 'Beijing University of Posts & Telecommunications'\n 'Biztek Institute Of Business & Technology,Karachi'\n 'Blekinge Institute of Technology' 'Brock University Canada'\n 'Brunel University'\n 'CECOS University of Information Technology and Emerging Sciences,Peshawar'\n 'COMSATS Institute of Information Technology'\n 'COMSATS Institute of Information Technology,Islamabad'\n 'COMSATS Institute of Information Technology,Lahore'\n 'COMSATS Institute of Information Technology,Vehari'\n 'COMSATS Institute of Information Technology,Wah Cantt'\n 'California State University'\n 'Capital University of Science & Technology'\n 'Capital University of Science and Technology'\n 'Carnegie Mellon University, Pittsburgh'\n 'Centre for Advanced Studies in Engineering'\n 'Chalmers University of Technology' 'Chinese Academy of Sciences'\n 'Chosun University' 'City University of Science and Technology'\n 'Colorado State University' 'Colorado Technical University'\n 'Columbia University' 'Concordia University,Montreal'\n 'Coventry University' 'Cranfield University' 'DUET,Karachi'\n 'DePaul University, Chicago'\n 'Dresden University Of Technology, Dresden\\xa0'\n 'Eindhoven University of Technology (TU/e)'\n 'FAST– National University of Computer and Emerging Sciences'\n 'FAST– National University of Computer and Emerging Sciences,Chiniot-Faisalabad'\n 'FAST– National University of Computer and Emerging Sciences,Islamabad'\n 'FAST– National University of Computer and Emerging Sciences,Lahore'\n 'FAST– National University of Computer and Emerging Sciences,Peshawar'\n 'Fatima Jinnah Women University, Rawalpindi' 'Fedral Urdu University'\n 'Florida Atlantic University' 'Foundation University'\n 'Galilée - Université Paris 13' 'George Mason University'\n 'George Washington University' 'Georgetown University,DC'\n 'Ghulam Ishaq Khan Institute of Science and Technology'\n 'Gomal University' 'Government College University'\n 'Government College University, Faisalabad'\n 'Government College University,Faisalabad'\n 'Graz University of Technology' 'Grenoble' 'Griffith University'\n 'Griffith University,Nathan Campus' 'Guildford'\n 'Gwangju Institute of Science and Technology' 'HITEC University,Taxila'\n 'Hamburg University of Technology' 'Hamdard University'\n 'Hanyang University, Ansan' 'Harbin Institute of Technology'\n 'Huazhong University of Science and Technology (HUST), Wuhan'\n 'IBMS KP Agricultural University Peshawar' 'INRIA Saclay Ile-de-France'\n 'INSA de Lyon, Rhone' 'IQRA University' 'IQRA University,Islamabad'\n 'IQRA University,Karachi' 'ISRA University'\n 'Illinois Institute of Technology' 'Ilmenau University of Technology'\n 'Imperial College, University of London'\n 'Information Technology University (ITU)'\n 'Institute Of Managment Sciences, Peshawar'\n 'Institute of Business Administration'\n 'Institute of Business Administration,Karachi'\n 'Institute of Business Administration,Sukkur'\n 'Institute of Management Sciences, Peshawar'\n 'International Islamic University'\n 'International Islamic University,Islamabad'\n 'Islamia College University ' 'JKU' 'JNU' 'Jinnah University for Women'\n 'John Moorse University, Liverpool' 'Jonkoping University'\n 'KTH Royal Institute of Technology'\n 'King Abdullah University of Science and Technology'\n 'Kingston University London'\n 'Kohat University of Science & Technology, Kohat' 'Kyung Hee University'\n 'Kyungpook National University' 'Kyushu University,Fukuoka'\n 'Lahore College for Women University' 'Lahore Leads University'\n 'Lahore University of Management Sciences' 'Linköping University'\n 'Liverpool John Moores University' 'London University'\n 'Loughborough University' 'Manchester Metropolitan University'\n 'Manchester University' 'Massachusetts Institute of Technology'\n 'Max Planck Institute for Computer Science'\n 'Mehran University of Engineering & Technology' 'Mid Sweden University'\n 'Middle East Technical University' 'Middlesex University'\n 'Minhaj University Lahore' 'Mohammad Ali Jinnah University'\n 'Monash University' 'Muroran Institute of Technology,Hokkaido'\n 'Myongji University' 'NCSU'\n 'NED University of Engineering And Technology' 'Nancy 2 University'\n 'Nanyang Tech University'\n 'National College of Business Administration and Economics'\n 'National Textile University' 'National University of Modern Languages'\n 'National University of Modern Languages,Islamabad'\n 'National University of Sciences and Technology'\n 'National University of Singapore' 'New York Institute of Technology'\n 'North Dakota State University' 'Northeastern University,Boston'\n 'Norwegian University of Science and Technology (NTNU),'\n 'Nottingham Trent University' 'Oxford Brookes University'\n 'PAF-Karachi Institute of Economics and Technology'\n 'Pace University, New York'\n 'Pakistan Institute of Engineering and Applied Sciences'\n 'Paris Descartes University' 'Paris Tech University of Eurecom'\n 'Pir Mehr Ali Shah Arid Agriculture University'\n 'Pohang University of Science and Technology' 'Politecnico di Milano'\n 'Politecnico di Torino' 'Pompeu Fabra University Barcelona' 'Preston'\n 'Punjab University College of Information Technology' 'Purdue University'\n 'Quaid-e-Awam University of Engineering, Science & Technology'\n 'Quaid-i-Azam University' 'Queen Mary University of London'\n 'RWTH Aachen University'\n 'Razak School of Engineering and Advanced Technology, Universiti Teknologi Malaysia (UTM)'\n 'Riphah International University'\n 'Riphah International University,Faisalabad'\n 'Rutgers State University of New Jersey, NJ' 'SRH Hochschule Heidelberg'\n 'SSindh Agriculture University' 'Saarland University'\n 'Sapienza University of Rome' \"Sardar Bahadur Khan Women's University\"\n 'Seoul National University' 'Shah Abdul Latif University, Khairpur'\n 'Shaheed Zulfikar Ali Bhutto Institute of Science and Technology'\n 'Shaheed Zulfikar Ali Bhutto Institute of Science and Technology,Islamabad'\n 'Sindh Agriculture University' 'Sindh University'\n 'Sir Syed University of Engineering and Technology'\n 'Skolkovo Institute of Science and Technology,\\xa0'\n 'South Asian University' 'Staffordshire University' 'Stanford University'\n 'State University of New York System' 'Stockholm University'\n 'Sungkyunkwan University' 'Superior University, Lahore' 'Swansea'\n 'Swedish University of Agricultural Sciences, Uppsala'\n 'Swinburne University Of Technology' 'TU Berlin' 'TU Wien'\n 'Technical University of Braunschweig' 'Technical University of Graz'\n 'Temple University' 'The Islamia University of Bahawalpur '\n 'The Ohio State University' 'The Queens University of Belfast'\n 'The State University of New Jersey' 'The University of Auckland'\n 'The University of Birmingham' 'The University of Cambridge'\n 'The University of Leeds' 'The University of Manchester'\n 'The University of Queensland' 'The University of Texas at Austin'\n 'The University of York' 'Tilburg University'\n 'Tokyo Institute of Technology' 'Tsinghua University'\n 'United Nations University International Institute for Software Technology (UNU-IIST)'\n 'Univ of Porto/Univ of Aveiro Portugal/Uni of Minho'\n \"Universite d'Evry Val d'Essonne\" 'Universiti Putra Malaysia Putra'\n 'Universiti Technologi' 'Universiti Teknologi PETRONAS'\n 'Universiti Tun Hussein Onn Malaysia'\n 'University Institute of Information Technology' 'University Of Caen'\n 'University Of Oslo' 'University Of Salford'\n 'University Of Southern California' 'University Of Waterloo'\n 'University Paris' 'University of Abertay Dundee'\n 'University of Agriculture' 'University of Agriculture Faisalabad'\n 'University of Agriculture, Faisalabad'\n 'University of Agriculture, Faisalabad\\xa0'\n 'University of Arid Agriculture' 'University of Balochistan'\n 'University of Bath' 'University of Bayreuth'\n 'University of BedfordShire' 'University of Bedfordshire'\n 'University of Bergen' 'University of Birmingham' 'University of Bologna'\n 'University of Bonn' 'University of Bradford' 'University of Bristol'\n 'University of British Columbia' 'University of Canterbury'\n 'University of Central Florida' 'University of Central Missouri'\n 'University of Central Punjab' 'University of Colorado\\xa0'\n 'University of Dundee' 'University of Engineering & Technology'\n 'University of Engineering and Technology'\n 'University of Engineering and Technology,Peshawar'\n 'University of Engineering and Technology,Taxila' 'University of Essex'\n 'University of Florida' 'University of Freiburg' 'University of Genova'\n 'University of Glasgow' 'University of Grenoble' 'University of Gujrat'\n 'University of Huddersfield' 'University of Illinois'\n 'University of Innsbruck' 'University of Karachi' 'University of Kent'\n 'University of Konstanz' 'University of Kuala Lumpur'\n 'University of Lahore' 'University of Leeds' 'University of Leicester'\n 'University of Limerick' 'University of Liverpool' 'University of Malaga'\n 'University of Malaya' 'University of Management and Technology'\n 'University of Manchester'\n 'University of Manchester Institute of Science and Technology'\n 'University of Mississippi\\xa0' 'University of New South Wales, Sydney'\n 'University of Nice, Sophia Antipolis' 'University of Northampton'\n 'University of Notre Dame Indiana\\xa0' 'University of Orleans'\n 'University of Oviedo' 'University of Paisley' 'University of Paris'\n 'University of Paris-Est' 'University of Patras' 'University of Peshawar'\n 'University of Pittsburgh' 'University of Plymouth' 'University of Porto'\n 'University of Regina' 'University of Rochester'\n 'University of Rome Tor Vergata' 'University of Saarland'\n 'University of Salford'\n 'University of Shanghai for Science and Technology'\n 'University of South Australia' 'University of South Brittany'\n 'University of South Florida' 'University of Southampton'\n 'University of Southern California' 'University of Stirling'\n 'University of Stuttgart' 'University of Sunderland'\n 'University of Surrey' 'University of Sussex' 'University of Technology'\n 'University of Trento' 'University of Turbat' 'University of Ulm'\n 'University of Vienna' 'University of Virginia' 'University of Wales'\n 'University of Wales,Aberystwyth' 'University of Westminster'\n 'University of York' 'University of the Punjab'\n 'University of the Punjab,Gujranwala' 'University of the West Scotland'\n 'University of\\xa0Liverpool John Moores University'\n 'Universität Salzburg' 'Université Henri Poincaré, Nancy 1,'\n 'Université de la Rochelle' 'Universtiy of Karachi'\n 'Universtiy of Lahore' 'Uppsala University'\n 'Usman Institute of Technology'\n 'Usman Institute of Technology (Hamdard University)'\n 'Vienna University of Technology' 'Virtual University of Pakistan'\n 'Vrije University, Amsterdam' 'Wayne State University'\n 'Xiamen university' 'Zhejiang University' '\\xa0Boston University'\n '\\xa0Hongik University' '\\xa0Nanyang Technological University'\n '\\xa0National University of Sciences and Technology-NIIT'\n '\\xa0University of Bedfordshire' '\\xa0University of Bonn'\n '\\xa0University of Missouri, KC' '\\xa0University of Windsor'\n 'Åbo Akademi University,']\n"
     ]
    }
   ],
   "source": [
    "#pulls unique valuse\n",
    "grad_from = professors['Graduated from'].unique()\n",
    "\n",
    "#sorts alphabetically\n",
    "grad_from.sort()\n",
    "print(grad_from)"
   ]
  },
  {
   "source": [
    "Do you notice any inconsistencies in the data?  Can any of the inconsistencies in the data be fixed by removing white spaces at the beginning and end of cells?\n",
    "\n",
    "- There are inconsistencies that can be fixed by removing white spaces at the beginning and end of cells. For instance, \"University of Central Florida\" and \" University of Central Florida\" both appear in the column."
   ],
   "cell_type": "markdown",
   "metadata": {}
  },
  {
   "source": [
    "# 2) Do some text pre-processing\n",
    "\n",
    "Convert every entry in the \"Graduated from\" column in the `professors` DataFrame to remove white spaces at the beginning and end of cells."
   ],
   "cell_type": "markdown",
   "metadata": {}
  },
  {
   "cell_type": "code",
   "execution_count": 4,
   "metadata": {},
   "outputs": [],
   "source": [
    "professors['Graduated from']=professors['Graduated from'].str.strip()"
   ]
  },
  {
   "source": [
    "# 3) Continue working with countries\n",
    "\n",
    "Take another look at the \"Country\" column and see if there's any more data cleaning we need to do.\n"
   ],
   "cell_type": "markdown",
   "metadata": {}
  },
  {
   "cell_type": "code",
   "execution_count": 5,
   "metadata": {},
   "outputs": [
    {
     "output_type": "execute_result",
     "data": {
      "text/plain": [
       "array(['australia', 'austria', 'canada', 'china', 'finland', 'france',\n",
       "       'germany', 'greece', 'hongkong', 'ireland', 'italy', 'japan',\n",
       "       'macau', 'malaysia', 'mauritius', 'netherland', 'new zealand',\n",
       "       'norway', 'pakistan', 'portugal', 'russian federation',\n",
       "       'saudi arabia', 'scotland', 'singapore', 'south korea', 'spain',\n",
       "       'sweden', 'thailand', 'turkey', 'uk', 'urbana', 'usa', 'usofa'],\n",
       "      dtype=object)"
      ]
     },
     "metadata": {},
     "execution_count": 5
    }
   ],
   "source": [
    "# get all the unique values in the 'City' column\n",
    "countries = professors['Country'].unique()\n",
    "\n",
    "# sort them alphabetically\n",
    "countries.sort()\n",
    "countries"
   ]
  },
  {
   "source": [
    "Take another look at the \"Country\" column and see if there's any more data cleaning we need to do.\n",
    "\n",
    "It looks like 'usa' and 'usofa' should be the same country.  Correct the \"Country\" column in the dataframe so that 'usofa' appears instead as 'usa'."
   ],
   "cell_type": "markdown",
   "metadata": {}
  },
  {
   "cell_type": "code",
   "execution_count": 6,
   "metadata": {},
   "outputs": [
    {
     "output_type": "stream",
     "name": "stdout",
     "text": [
      "[('usa', 100), ('usofa', 75), ('austria', 60), ('australia', 50), ('spain', 50), ('urbana', 44), ('uk', 40), ('malaysia', 36), ('pakistan', 36), ('portugal', 36)]\nAll done!\n"
     ]
    }
   ],
   "source": [
    "#find matches value\n",
    "matches = fuzzywuzzy.process.extract(\"usa\", countries, limit=10, scorer=fuzzywuzzy.fuzz.token_sort_ratio)\n",
    "print(matches)"
   ]
  },
  {
   "cell_type": "code",
   "execution_count": 7,
   "metadata": {},
   "outputs": [
    {
     "output_type": "stream",
     "name": "stdout",
     "text": [
      "All done!\n"
     ]
    }
   ],
   "source": [
    "#use function to replace 'usofa' with 'usa'\n",
    "replace_matches_in_column(df=professors, column='Country', string_to_match=\"usa\", min_ratio=70)"
   ]
  },
  {
   "cell_type": "code",
   "execution_count": null,
   "metadata": {},
   "outputs": [],
   "source": []
  }
 ]
}