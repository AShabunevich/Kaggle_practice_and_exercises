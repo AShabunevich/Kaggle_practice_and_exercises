{
 "metadata": {
  "language_info": {
   "codemirror_mode": {
    "name": "ipython",
    "version": 3
   },
   "file_extension": ".py",
   "mimetype": "text/x-python",
   "name": "python",
   "nbconvert_exporter": "python",
   "pygments_lexer": "ipython3",
   "version": "3.8.5-final"
  },
  "orig_nbformat": 2,
  "kernelspec": {
   "name": "python3",
   "display_name": "Python 3",
   "language": "python"
  }
 },
 "nbformat": 4,
 "nbformat_minor": 2,
 "cells": [
  {
   "source": [
    "Load data."
   ],
   "cell_type": "markdown",
   "metadata": {}
  },
  {
   "cell_type": "code",
   "execution_count": 1,
   "metadata": {},
   "outputs": [
    {
     "output_type": "execute_result",
     "data": {
      "text/plain": [
       "    country                                        description  \\\n",
       "0     Italy  Aromas include tropical fruit, broom, brimston...   \n",
       "1  Portugal  This is ripe and fruity, a wine that is smooth...   \n",
       "2        US  Tart and snappy, the flavors of lime flesh and...   \n",
       "3        US  Pineapple rind, lemon pith and orange blossom ...   \n",
       "4        US  Much like the regular bottling from 2012, this...   \n",
       "\n",
       "                          designation  points  price           province  \\\n",
       "0                        Vulkà Bianco      87    NaN  Sicily & Sardinia   \n",
       "1                            Avidagos      87   15.0              Douro   \n",
       "2                                 NaN      87   14.0             Oregon   \n",
       "3                Reserve Late Harvest      87   13.0           Michigan   \n",
       "4  Vintner's Reserve Wild Child Block      87   65.0             Oregon   \n",
       "\n",
       "              region_1           region_2         taster_name  \\\n",
       "0                 Etna                NaN       Kerin O’Keefe   \n",
       "1                  NaN                NaN          Roger Voss   \n",
       "2    Willamette Valley  Willamette Valley        Paul Gregutt   \n",
       "3  Lake Michigan Shore                NaN  Alexander Peartree   \n",
       "4    Willamette Valley  Willamette Valley        Paul Gregutt   \n",
       "\n",
       "  taster_twitter_handle                                              title  \\\n",
       "0          @kerinokeefe                  Nicosia 2013 Vulkà Bianco  (Etna)   \n",
       "1            @vossroger      Quinta dos Avidagos 2011 Avidagos Red (Douro)   \n",
       "2           @paulgwine       Rainstorm 2013 Pinot Gris (Willamette Valley)   \n",
       "3                   NaN  St. Julian 2013 Reserve Late Harvest Riesling ...   \n",
       "4           @paulgwine   Sweet Cheeks 2012 Vintner's Reserve Wild Child...   \n",
       "\n",
       "          variety               winery  \n",
       "0     White Blend              Nicosia  \n",
       "1  Portuguese Red  Quinta dos Avidagos  \n",
       "2      Pinot Gris            Rainstorm  \n",
       "3        Riesling           St. Julian  \n",
       "4      Pinot Noir         Sweet Cheeks  "
      ],
      "text/html": "<div>\n<style scoped>\n    .dataframe tbody tr th:only-of-type {\n        vertical-align: middle;\n    }\n\n    .dataframe tbody tr th {\n        vertical-align: top;\n    }\n\n    .dataframe thead th {\n        text-align: right;\n    }\n</style>\n<table border=\"1\" class=\"dataframe\">\n  <thead>\n    <tr style=\"text-align: right;\">\n      <th></th>\n      <th>country</th>\n      <th>description</th>\n      <th>designation</th>\n      <th>points</th>\n      <th>price</th>\n      <th>province</th>\n      <th>region_1</th>\n      <th>region_2</th>\n      <th>taster_name</th>\n      <th>taster_twitter_handle</th>\n      <th>title</th>\n      <th>variety</th>\n      <th>winery</th>\n    </tr>\n  </thead>\n  <tbody>\n    <tr>\n      <th>0</th>\n      <td>Italy</td>\n      <td>Aromas include tropical fruit, broom, brimston...</td>\n      <td>Vulkà Bianco</td>\n      <td>87</td>\n      <td>NaN</td>\n      <td>Sicily &amp; Sardinia</td>\n      <td>Etna</td>\n      <td>NaN</td>\n      <td>Kerin O’Keefe</td>\n      <td>@kerinokeefe</td>\n      <td>Nicosia 2013 Vulkà Bianco  (Etna)</td>\n      <td>White Blend</td>\n      <td>Nicosia</td>\n    </tr>\n    <tr>\n      <th>1</th>\n      <td>Portugal</td>\n      <td>This is ripe and fruity, a wine that is smooth...</td>\n      <td>Avidagos</td>\n      <td>87</td>\n      <td>15.0</td>\n      <td>Douro</td>\n      <td>NaN</td>\n      <td>NaN</td>\n      <td>Roger Voss</td>\n      <td>@vossroger</td>\n      <td>Quinta dos Avidagos 2011 Avidagos Red (Douro)</td>\n      <td>Portuguese Red</td>\n      <td>Quinta dos Avidagos</td>\n    </tr>\n    <tr>\n      <th>2</th>\n      <td>US</td>\n      <td>Tart and snappy, the flavors of lime flesh and...</td>\n      <td>NaN</td>\n      <td>87</td>\n      <td>14.0</td>\n      <td>Oregon</td>\n      <td>Willamette Valley</td>\n      <td>Willamette Valley</td>\n      <td>Paul Gregutt</td>\n      <td>@paulgwine</td>\n      <td>Rainstorm 2013 Pinot Gris (Willamette Valley)</td>\n      <td>Pinot Gris</td>\n      <td>Rainstorm</td>\n    </tr>\n    <tr>\n      <th>3</th>\n      <td>US</td>\n      <td>Pineapple rind, lemon pith and orange blossom ...</td>\n      <td>Reserve Late Harvest</td>\n      <td>87</td>\n      <td>13.0</td>\n      <td>Michigan</td>\n      <td>Lake Michigan Shore</td>\n      <td>NaN</td>\n      <td>Alexander Peartree</td>\n      <td>NaN</td>\n      <td>St. Julian 2013 Reserve Late Harvest Riesling ...</td>\n      <td>Riesling</td>\n      <td>St. Julian</td>\n    </tr>\n    <tr>\n      <th>4</th>\n      <td>US</td>\n      <td>Much like the regular bottling from 2012, this...</td>\n      <td>Vintner's Reserve Wild Child Block</td>\n      <td>87</td>\n      <td>65.0</td>\n      <td>Oregon</td>\n      <td>Willamette Valley</td>\n      <td>Willamette Valley</td>\n      <td>Paul Gregutt</td>\n      <td>@paulgwine</td>\n      <td>Sweet Cheeks 2012 Vintner's Reserve Wild Child...</td>\n      <td>Pinot Noir</td>\n      <td>Sweet Cheeks</td>\n    </tr>\n  </tbody>\n</table>\n</div>"
     },
     "metadata": {},
     "execution_count": 1
    }
   ],
   "source": [
    "import pandas as pd \n",
    "\n",
    "reviews = pd.read_csv('~/Desktop/Kaggle/practice/Pandas/winemag-data-130k-v2.csv', index_col=0)\n",
    "pd.set_option(\"display.max_rows\", 5)\n",
    "\n",
    "reviews.head()"
   ]
  },
  {
   "source": [
    "`region_1` and `region_2` are pretty uninformative names for locale columns in the dataset. Create a copy of `reviews` with these columns renamed to `region` and `locale`, respectively."
   ],
   "cell_type": "markdown",
   "metadata": {}
  },
  {
   "cell_type": "code",
   "execution_count": 3,
   "metadata": {},
   "outputs": [
    {
     "output_type": "stream",
     "name": "stdout",
     "text": [
      "    country                                        description  \\\n0     Italy  Aromas include tropical fruit, broom, brimston...   \n1  Portugal  This is ripe and fruity, a wine that is smooth...   \n2        US  Tart and snappy, the flavors of lime flesh and...   \n3        US  Pineapple rind, lemon pith and orange blossom ...   \n4        US  Much like the regular bottling from 2012, this...   \n\n                          designation  points  price           province  \\\n0                        Vulkà Bianco      87    NaN  Sicily & Sardinia   \n1                            Avidagos      87   15.0              Douro   \n2                                 NaN      87   14.0             Oregon   \n3                Reserve Late Harvest      87   13.0           Michigan   \n4  Vintner's Reserve Wild Child Block      87   65.0             Oregon   \n\n                region             locale         taster_name  \\\n0                 Etna                NaN       Kerin O’Keefe   \n1                  NaN                NaN          Roger Voss   \n2    Willamette Valley  Willamette Valley        Paul Gregutt   \n3  Lake Michigan Shore                NaN  Alexander Peartree   \n4    Willamette Valley  Willamette Valley        Paul Gregutt   \n\n  taster_twitter_handle                                              title  \\\n0          @kerinokeefe                  Nicosia 2013 Vulkà Bianco  (Etna)   \n1            @vossroger      Quinta dos Avidagos 2011 Avidagos Red (Douro)   \n2           @paulgwine       Rainstorm 2013 Pinot Gris (Willamette Valley)   \n3                   NaN  St. Julian 2013 Reserve Late Harvest Riesling ...   \n4           @paulgwine   Sweet Cheeks 2012 Vintner's Reserve Wild Child...   \n\n          variety               winery  \n0     White Blend              Nicosia  \n1  Portuguese Red  Quinta dos Avidagos  \n2      Pinot Gris            Rainstorm  \n3        Riesling           St. Julian  \n4      Pinot Noir         Sweet Cheeks  \n"
     ]
    }
   ],
   "source": [
    "#option 1\n",
    "renamed1 = reviews.rename(columns={'region_1':'region', 'region_2':'locale'})\n",
    "print(renamed1.head())\n",
    "\n",
    "#option 2\n",
    "renamed2 = reviews.rename(columns=dict(region_1='region', region_2='locale'))"
   ]
  },
  {
   "source": [
    "Set the index name in the dataset to `wines`."
   ],
   "cell_type": "markdown",
   "metadata": {}
  },
  {
   "cell_type": "code",
   "execution_count": 4,
   "metadata": {},
   "outputs": [
    {
     "output_type": "stream",
     "name": "stdout",
     "text": [
      "        country                                        description  \\\nwines                                                                \n0         Italy  Aromas include tropical fruit, broom, brimston...   \n1      Portugal  This is ripe and fruity, a wine that is smooth...   \n2            US  Tart and snappy, the flavors of lime flesh and...   \n3            US  Pineapple rind, lemon pith and orange blossom ...   \n4            US  Much like the regular bottling from 2012, this...   \n\n                              designation  points  price           province  \\\nwines                                                                         \n0                            Vulkà Bianco      87    NaN  Sicily & Sardinia   \n1                                Avidagos      87   15.0              Douro   \n2                                     NaN      87   14.0             Oregon   \n3                    Reserve Late Harvest      87   13.0           Michigan   \n4      Vintner's Reserve Wild Child Block      87   65.0             Oregon   \n\n                  region_1           region_2         taster_name  \\\nwines                                                               \n0                     Etna                NaN       Kerin O’Keefe   \n1                      NaN                NaN          Roger Voss   \n2        Willamette Valley  Willamette Valley        Paul Gregutt   \n3      Lake Michigan Shore                NaN  Alexander Peartree   \n4        Willamette Valley  Willamette Valley        Paul Gregutt   \n\n      taster_twitter_handle  \\\nwines                         \n0              @kerinokeefe   \n1                @vossroger   \n2               @paulgwine    \n3                       NaN   \n4               @paulgwine    \n\n                                                   title         variety  \\\nwines                                                                      \n0                      Nicosia 2013 Vulkà Bianco  (Etna)     White Blend   \n1          Quinta dos Avidagos 2011 Avidagos Red (Douro)  Portuguese Red   \n2          Rainstorm 2013 Pinot Gris (Willamette Valley)      Pinot Gris   \n3      St. Julian 2013 Reserve Late Harvest Riesling ...        Riesling   \n4      Sweet Cheeks 2012 Vintner's Reserve Wild Child...      Pinot Noir   \n\n                    winery  \nwines                       \n0                  Nicosia  \n1      Quinta dos Avidagos  \n2                Rainstorm  \n3               St. Julian  \n4             Sweet Cheeks  \n"
     ]
    }
   ],
   "source": [
    "reindexed = reviews.rename_axis('wines', axis='rows')\n",
    "print(reindexed.head())"
   ]
  },
  {
   "source": [
    "The [Powerlifting Database](https://www.kaggle.com/open-powerlifting/powerlifting-database) dataset on Kaggle includes one CSV table for powerlifting meets and a separate one for powerlifting competitors.\n",
    "Both tables include references to a `MeetID`, a unique key for each meet (competition) included in the database. Using this, generate a dataset combining the two tables into one."
   ],
   "cell_type": "markdown",
   "metadata": {}
  },
  {
   "cell_type": "code",
   "execution_count": 6,
   "metadata": {},
   "outputs": [
    {
     "output_type": "execute_result",
     "data": {
      "text/plain": [
       "              MeetPath Federation        Date MeetCountry MeetState  \\\n",
       "MeetID                                                                \n",
       "0       365strong/1601  365Strong  2016-10-29         USA        NC   \n",
       "0       365strong/1601  365Strong  2016-10-29         USA        NC   \n",
       "0       365strong/1601  365Strong  2016-10-29         USA        NC   \n",
       "0       365strong/1601  365Strong  2016-10-29         USA        NC   \n",
       "0       365strong/1601  365Strong  2016-10-29         USA        NC   \n",
       "\n",
       "         MeetTown                                           MeetName  \\\n",
       "MeetID                                                                 \n",
       "0       Charlotte  2016 Junior & Senior National Powerlifting Cha...   \n",
       "0       Charlotte  2016 Junior & Senior National Powerlifting Cha...   \n",
       "0       Charlotte  2016 Junior & Senior National Powerlifting Cha...   \n",
       "0       Charlotte  2016 Junior & Senior National Powerlifting Cha...   \n",
       "0       Charlotte  2016 Junior & Senior National Powerlifting Cha...   \n",
       "\n",
       "                    Name Sex   Equipment  ...  WeightClassKg Squat4Kg  \\\n",
       "MeetID                                    ...                           \n",
       "0       Angie Belk Terry   F       Wraps  ...             60      NaN   \n",
       "0            Dawn Bogart   F  Single-ply  ...             60      NaN   \n",
       "0            Dawn Bogart   F  Single-ply  ...             60      NaN   \n",
       "0            Dawn Bogart   F         Raw  ...             60      NaN   \n",
       "0           Destiny Dula   F         Raw  ...           67.5      NaN   \n",
       "\n",
       "        BestSquatKg Bench4Kg  BestBenchKg  Deadlift4Kg  BestDeadliftKg  \\\n",
       "MeetID                                                                   \n",
       "0             47.63      NaN        20.41          NaN           70.31   \n",
       "0            142.88      NaN        95.25          NaN          163.29   \n",
       "0            142.88      NaN        95.25          NaN          163.29   \n",
       "0               NaN      NaN        95.25          NaN             NaN   \n",
       "0               NaN      NaN        31.75          NaN           90.72   \n",
       "\n",
       "        TotalKg  Place   Wilks  \n",
       "MeetID                          \n",
       "0        138.35      1  155.05  \n",
       "0        401.42      1  456.38  \n",
       "0        401.42      1  456.38  \n",
       "0         95.25      1  108.29  \n",
       "0        122.47      1  130.47  \n",
       "\n",
       "[5 rows x 23 columns]"
      ],
      "text/html": "<div>\n<style scoped>\n    .dataframe tbody tr th:only-of-type {\n        vertical-align: middle;\n    }\n\n    .dataframe tbody tr th {\n        vertical-align: top;\n    }\n\n    .dataframe thead th {\n        text-align: right;\n    }\n</style>\n<table border=\"1\" class=\"dataframe\">\n  <thead>\n    <tr style=\"text-align: right;\">\n      <th></th>\n      <th>MeetPath</th>\n      <th>Federation</th>\n      <th>Date</th>\n      <th>MeetCountry</th>\n      <th>MeetState</th>\n      <th>MeetTown</th>\n      <th>MeetName</th>\n      <th>Name</th>\n      <th>Sex</th>\n      <th>Equipment</th>\n      <th>...</th>\n      <th>WeightClassKg</th>\n      <th>Squat4Kg</th>\n      <th>BestSquatKg</th>\n      <th>Bench4Kg</th>\n      <th>BestBenchKg</th>\n      <th>Deadlift4Kg</th>\n      <th>BestDeadliftKg</th>\n      <th>TotalKg</th>\n      <th>Place</th>\n      <th>Wilks</th>\n    </tr>\n    <tr>\n      <th>MeetID</th>\n      <th></th>\n      <th></th>\n      <th></th>\n      <th></th>\n      <th></th>\n      <th></th>\n      <th></th>\n      <th></th>\n      <th></th>\n      <th></th>\n      <th></th>\n      <th></th>\n      <th></th>\n      <th></th>\n      <th></th>\n      <th></th>\n      <th></th>\n      <th></th>\n      <th></th>\n      <th></th>\n      <th></th>\n    </tr>\n  </thead>\n  <tbody>\n    <tr>\n      <th>0</th>\n      <td>365strong/1601</td>\n      <td>365Strong</td>\n      <td>2016-10-29</td>\n      <td>USA</td>\n      <td>NC</td>\n      <td>Charlotte</td>\n      <td>2016 Junior &amp; Senior National Powerlifting Cha...</td>\n      <td>Angie Belk Terry</td>\n      <td>F</td>\n      <td>Wraps</td>\n      <td>...</td>\n      <td>60</td>\n      <td>NaN</td>\n      <td>47.63</td>\n      <td>NaN</td>\n      <td>20.41</td>\n      <td>NaN</td>\n      <td>70.31</td>\n      <td>138.35</td>\n      <td>1</td>\n      <td>155.05</td>\n    </tr>\n    <tr>\n      <th>0</th>\n      <td>365strong/1601</td>\n      <td>365Strong</td>\n      <td>2016-10-29</td>\n      <td>USA</td>\n      <td>NC</td>\n      <td>Charlotte</td>\n      <td>2016 Junior &amp; Senior National Powerlifting Cha...</td>\n      <td>Dawn Bogart</td>\n      <td>F</td>\n      <td>Single-ply</td>\n      <td>...</td>\n      <td>60</td>\n      <td>NaN</td>\n      <td>142.88</td>\n      <td>NaN</td>\n      <td>95.25</td>\n      <td>NaN</td>\n      <td>163.29</td>\n      <td>401.42</td>\n      <td>1</td>\n      <td>456.38</td>\n    </tr>\n    <tr>\n      <th>0</th>\n      <td>365strong/1601</td>\n      <td>365Strong</td>\n      <td>2016-10-29</td>\n      <td>USA</td>\n      <td>NC</td>\n      <td>Charlotte</td>\n      <td>2016 Junior &amp; Senior National Powerlifting Cha...</td>\n      <td>Dawn Bogart</td>\n      <td>F</td>\n      <td>Single-ply</td>\n      <td>...</td>\n      <td>60</td>\n      <td>NaN</td>\n      <td>142.88</td>\n      <td>NaN</td>\n      <td>95.25</td>\n      <td>NaN</td>\n      <td>163.29</td>\n      <td>401.42</td>\n      <td>1</td>\n      <td>456.38</td>\n    </tr>\n    <tr>\n      <th>0</th>\n      <td>365strong/1601</td>\n      <td>365Strong</td>\n      <td>2016-10-29</td>\n      <td>USA</td>\n      <td>NC</td>\n      <td>Charlotte</td>\n      <td>2016 Junior &amp; Senior National Powerlifting Cha...</td>\n      <td>Dawn Bogart</td>\n      <td>F</td>\n      <td>Raw</td>\n      <td>...</td>\n      <td>60</td>\n      <td>NaN</td>\n      <td>NaN</td>\n      <td>NaN</td>\n      <td>95.25</td>\n      <td>NaN</td>\n      <td>NaN</td>\n      <td>95.25</td>\n      <td>1</td>\n      <td>108.29</td>\n    </tr>\n    <tr>\n      <th>0</th>\n      <td>365strong/1601</td>\n      <td>365Strong</td>\n      <td>2016-10-29</td>\n      <td>USA</td>\n      <td>NC</td>\n      <td>Charlotte</td>\n      <td>2016 Junior &amp; Senior National Powerlifting Cha...</td>\n      <td>Destiny Dula</td>\n      <td>F</td>\n      <td>Raw</td>\n      <td>...</td>\n      <td>67.5</td>\n      <td>NaN</td>\n      <td>NaN</td>\n      <td>NaN</td>\n      <td>31.75</td>\n      <td>NaN</td>\n      <td>90.72</td>\n      <td>122.47</td>\n      <td>1</td>\n      <td>130.47</td>\n    </tr>\n  </tbody>\n</table>\n<p>5 rows × 23 columns</p>\n</div>"
     },
     "metadata": {},
     "execution_count": 6
    }
   ],
   "source": [
    "powerlifting_meets = pd.read_csv('~/Desktop/Kaggle/practice/Pandas/meets.csv')\n",
    "powerlifting_competitors = pd.read_csv('~/Desktop/Kaggle/practice/Pandas/openpowerlifting.csv')\n",
    "\n",
    "powerlifting_combined = powerlifting_meets.set_index(\"MeetID\").join(powerlifting_competitors.set_index(\"MeetID\"))\n",
    " \n",
    "powerlifting_combined.head()"
   ]
  },
  {
   "cell_type": "code",
   "execution_count": null,
   "metadata": {},
   "outputs": [],
   "source": []
  }
 ]
}