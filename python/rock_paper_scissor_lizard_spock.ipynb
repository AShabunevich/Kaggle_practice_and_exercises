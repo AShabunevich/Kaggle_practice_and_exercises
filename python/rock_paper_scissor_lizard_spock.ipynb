{
 "cells": [
  {
   "cell_type": "code",
   "execution_count": 25,
   "source": [
    "#converts name to number\n",
    "def name_to_number(name):\n",
    "    if name == 'rock':\n",
    "        return 0\n",
    "    elif name == 'spock':\n",
    "        return 1\n",
    "    elif name == 'paper':\n",
    "        return 2\n",
    "    elif name == 'lizard':\n",
    "        return 3\n",
    "    elif name == 'scissors':\n",
    "        return 4\n",
    "\n",
    "name_to_number(name = 'lizard')"
   ],
   "outputs": [
    {
     "output_type": "execute_result",
     "data": {
      "text/plain": [
       "3"
      ]
     },
     "metadata": {},
     "execution_count": 25
    }
   ],
   "metadata": {}
  },
  {
   "cell_type": "code",
   "execution_count": 26,
   "source": [
    "#converts number to name\n",
    "def number_to_name(number):\n",
    "    if number == 0:\n",
    "        return 'rock'\n",
    "    elif number == 1:\n",
    "        return 'spock'\n",
    "    elif number == 2:\n",
    "        return 'paper'\n",
    "    elif number == 3:\n",
    "        return 'lizard'\n",
    "    elif number == 4:\n",
    "        return 'scissors'\n",
    "\n",
    "number_to_name(4)"
   ],
   "outputs": [
    {
     "output_type": "execute_result",
     "data": {
      "text/plain": [
       "'scissors'"
      ]
     },
     "metadata": {},
     "execution_count": 26
    }
   ],
   "metadata": {}
  },
  {
   "cell_type": "code",
   "execution_count": 29,
   "source": [
    "import random\n",
    "\n",
    "def rpsls(name):\n",
    "    #player choise\n",
    "    player_number = name_to_number(name)\n",
    "    #computer choice\n",
    "    comp_number = random.randint(0,4)\n",
    "\n",
    "    print('Player choose: ', name)\n",
    "    print('Computer chose: ', number_to_name(comp_number))\n",
    "\n",
    "    if (comp_number+1)%5 == player_number:\n",
    "        print('Player wins!')\n",
    "    elif (comp_number+2)%5 == player_number:\n",
    "        print('Player wins!')\n",
    "    elif comp_number == player_number:\n",
    "        print('It is tie!')\n",
    "    else:\n",
    "        print('Computer wins!')\n",
    "    print(' ')\n",
    "\n",
    "\n",
    "rpsls(\"rock\")\n",
    "rpsls(\"spock\")\n",
    "rpsls(\"paper\")\n",
    "rpsls(\"lizard\")\n",
    "rpsls(\"scissors\")\n"
   ],
   "outputs": [
    {
     "output_type": "stream",
     "name": "stdout",
     "text": [
      "Player choose:  rock\n",
      "Computer chose:  lizard\n",
      "Player wins!\n",
      " \n",
      "Player choose:  spock\n",
      "Computer chose:  rock\n",
      "Player wins!\n",
      " \n",
      "Player choose:  paper\n",
      "Computer chose:  rock\n",
      "Player wins!\n",
      " \n",
      "Player choose:  lizard\n",
      "Computer chose:  rock\n",
      "Computer wins!\n",
      " \n",
      "Player choose:  scissors\n",
      "Computer chose:  scissors\n",
      "It is tie!\n",
      " \n"
     ]
    }
   ],
   "metadata": {}
  }
 ],
 "metadata": {
  "orig_nbformat": 4,
  "language_info": {
   "name": "python",
   "version": "3.9.5",
   "mimetype": "text/x-python",
   "codemirror_mode": {
    "name": "ipython",
    "version": 3
   },
   "pygments_lexer": "ipython3",
   "nbconvert_exporter": "python",
   "file_extension": ".py"
  },
  "kernelspec": {
   "name": "python3",
   "display_name": "Python 3.9.5 64-bit"
  },
  "interpreter": {
   "hash": "aee8b7b246df8f9039afb4144a1f6fd8d2ca17a180786b69acc140d282b71a49"
  }
 },
 "nbformat": 4,
 "nbformat_minor": 2
}