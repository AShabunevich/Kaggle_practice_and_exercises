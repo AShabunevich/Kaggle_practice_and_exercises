{
 "cells": [
  {
   "cell_type": "markdown",
   "source": [
    "Project for Week 4 of \"Python Programming Essentials\".\n",
    "Collection of functions to process dates.\n",
    "\n",
    "Be sure to read the project description page for further information\n",
    "about the expected behavior of the program.\n"
   ],
   "metadata": {}
  },
  {
   "cell_type": "code",
   "execution_count": 149,
   "source": [
    "import datetime\n",
    "\n",
    "def days_in_month(year, month):\n",
    "    \"\"\"\n",
    "    Inputs:\n",
    "      year  - an integer between datetime.MINYEAR and datetime.MAXYEAR\n",
    "              representing the year\n",
    "      month - an integer between 1 and 12 representing the month\n",
    "\n",
    "    Returns:\n",
    "      The number of days in the input month.\n",
    "    \"\"\"\n",
    "    \n",
    "    date = datetime.datetime(year, month, 1)\n",
    "    total_days = (date.replace(month=date.month%12+1) - datetime.timedelta(days=1)).day\n",
    "    return total_days\n",
    "\n",
    "print(days_in_month(2021,1))\n"
   ],
   "outputs": [
    {
     "output_type": "stream",
     "name": "stdout",
     "text": [
      "31\n"
     ]
    }
   ],
   "metadata": {}
  },
  {
   "cell_type": "code",
   "execution_count": 235,
   "source": [
    "def is_valid_date(year, month, day):\n",
    "    \"\"\"\n",
    "    Inputs:\n",
    "      year  - an integer representing the year\n",
    "      month - an integer representing the month\n",
    "      day   - an integer representing the day\n",
    "\n",
    "    Returns:\n",
    "      True if year-month-day is a valid date and\n",
    "      False otherwise\n",
    "    \"\"\"\n",
    "\n",
    "    if datetime.MINYEAR <= year <= datetime.MAXYEAR:\n",
    "        if month in range(1, 13):\n",
    "            if day in range(1, days_in_month(year, month)+1):\n",
    "                return True\n",
    "            else:\n",
    "                return False\n",
    "        else:\n",
    "            return False\n",
    "    else:\n",
    "        return False\n",
    "    \n",
    "\n",
    "print(is_valid_date(2020,1,21))\n",
    "print(is_valid_date(20000, 1, 1))\n"
   ],
   "outputs": [
    {
     "output_type": "stream",
     "name": "stdout",
     "text": [
      "True\n",
      "False\n"
     ]
    }
   ],
   "metadata": {}
  },
  {
   "cell_type": "code",
   "execution_count": 236,
   "source": [
    "def days_between(year1, month1, day1, year2, month2, day2):\n",
    "    \"\"\"\n",
    "    Inputs:\n",
    "      year1  - an integer representing the year of the first date\n",
    "      month1 - an integer representing the month of the first date\n",
    "      day1   - an integer representing the day of the first date\n",
    "      year2  - an integer representing the year of the second date\n",
    "      month2 - an integer representing the month of the second date\n",
    "      day2   - an integer representing the day of the second date\n",
    "\n",
    "    Returns:\n",
    "      The number of days from the first date to the second date.\n",
    "      Returns 0 if either date is invalid or the second date is\n",
    "      before the first date.\n",
    "    \"\"\"\n",
    "\n",
    "    if is_valid_date(year1, month1, day1) is True and is_valid_date(year2, month2, day2) is True:\n",
    "        date1 = datetime.datetime(year1, month1, day1)\n",
    "        date2 = datetime.datetime(year2, month2, day2)\n",
    "        if date1 < date2:\n",
    "            diff_in_days = (date2-date1).days\n",
    "            return diff_in_days\n",
    "        else:\n",
    "            return 0\n",
    "    else:\n",
    "        return 0\n",
    "\n",
    "\n",
    "print(days_between(20000, 1, 1, 2047, 8, 2))\n",
    "print(days_between(1998, 1, 1, 2047, 8, 2))\n"
   ],
   "outputs": [
    {
     "output_type": "stream",
     "name": "stdout",
     "text": [
      "0\n",
      "18110\n"
     ]
    }
   ],
   "metadata": {}
  },
  {
   "cell_type": "code",
   "execution_count": 234,
   "source": [
    "def age_in_days(year, month, day):\n",
    "    \"\"\"\n",
    "    Inputs:\n",
    "      year  - an integer representing the birthday year\n",
    "      month - an integer representing the birthday month\n",
    "      day   - an integer representing the birthday day\n",
    "\n",
    "    Returns:\n",
    "      The age of a person with the input birthday as of today.\n",
    "      Returns 0 if the input date is invalid or if the input\n",
    "      date is in the future.\n",
    "    \"\"\"\n",
    "\n",
    "    if is_valid_date(year, month, day) is True:\n",
    "        b_day = datetime.date(year, month, day)\n",
    "        today = datetime.date.today()\n",
    "        if b_day <= today:\n",
    "            days = days_between(b_day.year, b_day.month, b_day.day, \n",
    "                                today.year, today.month, today.day)\n",
    "            return days\n",
    "        else:\n",
    "            return 0\n",
    "    else:\n",
    "        return 0\n",
    "\n",
    "print(age_in_days(2021, 10, 1))\n",
    "print(age_in_days(9998, 6, 25))\n"
   ],
   "outputs": [
    {
     "output_type": "stream",
     "name": "stdout",
     "text": [
      "9\n",
      "0\n"
     ]
    }
   ],
   "metadata": {}
  }
 ],
 "metadata": {
  "orig_nbformat": 4,
  "language_info": {
   "name": "python",
   "version": "3.9.5",
   "mimetype": "text/x-python",
   "codemirror_mode": {
    "name": "ipython",
    "version": 3
   },
   "pygments_lexer": "ipython3",
   "nbconvert_exporter": "python",
   "file_extension": ".py"
  },
  "kernelspec": {
   "name": "python3",
   "display_name": "Python 3.9.5 64-bit"
  },
  "interpreter": {
   "hash": "aee8b7b246df8f9039afb4144a1f6fd8d2ca17a180786b69acc140d282b71a49"
  }
 },
 "nbformat": 4,
 "nbformat_minor": 2
}