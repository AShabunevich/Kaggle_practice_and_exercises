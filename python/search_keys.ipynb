{
 "cells": [
  {
   "cell_type": "markdown",
   "metadata": {},
   "source": [
    "Set key-values pairs in dictinary from text file."
   ]
  },
  {
   "cell_type": "code",
   "execution_count": 1,
   "metadata": {},
   "outputs": [
    {
     "name": "stdout",
     "output_type": "stream",
     "text": [
      "{'dog': '54', 'cat': '7', 'goose': '21', 'humster': '44', 'mouse': '97', 'ferret': '33', 'pig': '12', 'cow': '53', 'sheep': '234', 'bull': '35', 'chiken': '1', 'otter': '66', 'snake': '90', 'spider': '57', 'frog': '76'}\n"
     ]
    }
   ],
   "source": [
    "#initializes dictinary\n",
    "myDict = {}\n",
    "\n",
    "#opens test file and rewrites it as dictinary\n",
    "with open(\"key_value_pairs.txt\") as file:\n",
    "    for line in file.readlines():\n",
    "        key, value = line.rstrip(\"\\n\").replace(\" \", \"\").split(\":\")\n",
    "        myDict[key] = value\n",
    "\n",
    "print(myDict)"
   ]
  },
  {
   "cell_type": "markdown",
   "metadata": {},
   "source": [
    "User writes keys in tupple. Run through loop. Output will show which key is present ('Y') or missing ('N'), total number of keys, and number of missing and existing keys."
   ]
  },
  {
   "cell_type": "code",
   "execution_count": null,
   "metadata": {},
   "outputs": [],
   "source": [
    "list_key = ('cat', 'dog', 'elk', 'frog', 'owl')\n",
    "\n",
    "\n",
    "def counter_keys(dict, search):\n",
    "\n",
    "    #initializes counter\n",
    "    i = 0\n",
    "\n",
    "    #loop for checking keys\n",
    "    for key in search:\n",
    "        if key in dict.keys():\n",
    "            i += 1\n",
    "            print('Y ', key)\n",
    "        else:\n",
    "            print('N ', key)\n",
    "\n",
    "    #print results\n",
    "    print('\\nTotal keys: ', len(search))\n",
    "    print('Total present: ', i)\n",
    "    print('Total not present ', len(search)-i)\n",
    "\n",
    "counter_keys(dict=myDict, search=list_key)\n"
   ]
  },
  {
   "cell_type": "code",
   "execution_count": null,
   "metadata": {},
   "outputs": [],
   "source": [
    "enter_keys = input(\"Enter keys:\")\n",
    "print(\"Keys: \" + enter_keys)\n"
   ]
  },
  {
   "cell_type": "code",
   "execution_count": 4,
   "metadata": {},
   "outputs": [
    {
     "ename": "TypeError",
     "evalue": "'str' object is not callable",
     "output_type": "error",
     "traceback": [
      "\u001b[0;31m---------------------------------------------------------------------------\u001b[0m",
      "\u001b[0;31mTypeError\u001b[0m                                 Traceback (most recent call last)",
      "\u001b[0;32m<ipython-input-4-3a8728a31f98>\u001b[0m in \u001b[0;36m<module>\u001b[0;34m\u001b[0m\n\u001b[1;32m      1\u001b[0m \u001b[0;31m# input comma separated elements as string\u001b[0m\u001b[0;34m\u001b[0m\u001b[0;34m\u001b[0m\u001b[0;34m\u001b[0m\u001b[0m\n\u001b[0;32m----> 2\u001b[0;31m \u001b[0mstr\u001b[0m \u001b[0;34m=\u001b[0m \u001b[0mstr\u001b[0m\u001b[0;34m(\u001b[0m\u001b[0minput\u001b[0m\u001b[0;34m(\u001b[0m\u001b[0;34m\"Enter comma separated integers: \"\u001b[0m\u001b[0;34m)\u001b[0m\u001b[0;34m)\u001b[0m\u001b[0;34m\u001b[0m\u001b[0;34m\u001b[0m\u001b[0m\n\u001b[0m\u001b[1;32m      3\u001b[0m \u001b[0mprint\u001b[0m \u001b[0;34m(\u001b[0m\u001b[0;34m\"Input string: \"\u001b[0m\u001b[0;34m,\u001b[0m \u001b[0mstr\u001b[0m\u001b[0;34m)\u001b[0m\u001b[0;34m\u001b[0m\u001b[0;34m\u001b[0m\u001b[0m\n\u001b[1;32m      4\u001b[0m \u001b[0;34m\u001b[0m\u001b[0m\n\u001b[1;32m      5\u001b[0m \u001b[0;31m# conver to the list\u001b[0m\u001b[0;34m\u001b[0m\u001b[0;34m\u001b[0m\u001b[0;34m\u001b[0m\u001b[0m\n",
      "\u001b[0;31mTypeError\u001b[0m: 'str' object is not callable"
     ]
    }
   ],
   "source": [
    "# input comma separated elements as string\n",
    "str = str(input(\"Enter comma separated integers: \"))\n",
    "print (\"Input string: \", str)\n",
    "\n",
    "# conver to the list\n",
    "list = str.split(\",\")\n",
    "print (\"list: \", list)\n"
   ]
  },
  {
   "cell_type": "code",
   "execution_count": 3,
   "metadata": {},
   "outputs": [
    {
     "name": "stdout",
     "output_type": "stream",
     "text": [
      "Y  dog\n",
      "Y  cat\n",
      "Y  cow\n",
      "N  hi\n",
      "\n",
      "Total keys:  4\n",
      "Total present:  3\n",
      "Total not present  1\n"
     ]
    }
   ],
   "source": [
    "def counter_keys(dict, search):\n",
    "\n",
    "    #initializes counter\n",
    "    i = 0\n",
    "\n",
    "    #loop for checking keys\n",
    "    for key in search:\n",
    "        if key in dict.keys():\n",
    "            i += 1\n",
    "            print('Y ', key)\n",
    "        else:\n",
    "            print('N ', key)\n",
    "\n",
    "    #print results\n",
    "    print('\\nTotal keys: ', len(search))\n",
    "    print('Total present: ', i)\n",
    "    print('Total not present ', len(search)-i)\n",
    "\n",
    "\n",
    "counter_keys(dict=myDict, search=list)\n"
   ]
  }
 ],
 "metadata": {
  "kernelspec": {
   "display_name": "Python 3.8.5 64-bit ('base': conda)",
   "name": "python385jvsc74a57bd008f3f458660fce00c4e9a03ef8a038896277f9ff93c2660d371889bd57491ba2"
  },
  "language_info": {
   "codemirror_mode": {
    "name": "ipython",
    "version": 3
   },
   "file_extension": ".py",
   "mimetype": "text/x-python",
   "name": "python",
   "nbconvert_exporter": "python",
   "pygments_lexer": "ipython3",
   "version": "3.8.5"
  },
  "orig_nbformat": 2
 },
 "nbformat": 4,
 "nbformat_minor": 2
}