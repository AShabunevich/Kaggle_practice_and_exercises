{
 "cells": [
  {
   "cell_type": "markdown",
   "metadata": {},
   "source": [
    "Set key-values pairs in dictinary from text file."
   ]
  },
  {
   "cell_type": "code",
   "execution_count": 39,
   "metadata": {},
   "outputs": [
    {
     "name": "stdout",
     "output_type": "stream",
     "text": [
      "{'dog': '54', 'cat': '7', 'goose': '21', 'humster': '44', 'mouse': '97', 'ferret': '33', 'pig': '12', 'cow': '53', 'sheep': '234', 'bull': '35', 'chiken': '1', 'otter': '66', 'snake': '90', 'spider': '57', 'frog': '76'}\n"
     ]
    }
   ],
   "source": [
    "#initializes dictinary\n",
    "myDict = {}\n",
    "\n",
    "#opens test file and rewrites it as dictinary\n",
    "with open(\"key_value_pairs.txt\") as file:\n",
    "    for line in file.readlines():\n",
    "        key, value = line.rstrip(\"\\n\").replace(\" \", \"\").split(\":\")\n",
    "        myDict[key] = value\n",
    "\n",
    "print(myDict)"
   ]
  },
  {
   "cell_type": "markdown",
   "metadata": {},
   "source": [
    "User writes keys in tupple. Run through loop. Output will show which key is present ('Y') or missing ('N'), total number of keys, and number of missing and existing keys."
   ]
  },
  {
   "cell_type": "code",
   "execution_count": 88,
   "metadata": {},
   "outputs": [
    {
     "name": "stdout",
     "output_type": "stream",
     "text": [
      "cat : Y\n",
      "dog : Y\n",
      "elk : N\n",
      "frog : Y\n",
      "owl : N\n",
      "\n",
      "Total keys:  5\n",
      "Total present:  3\n",
      "Total not present  2\n"
     ]
    }
   ],
   "source": [
    "#user input\n",
    "list_key = ('cat', 'dog', 'elk', 'frog', 'owl')\n",
    "\n",
    "#initializes counter\n",
    "i=0\n",
    "\n",
    "#loop for checking keys\n",
    "for key in list_key:\n",
    "    if key in myDict.keys():\n",
    "        i += 1\n",
    "        print(key, ': Y')\n",
    "    else:\n",
    "        print(key, ': N')\n",
    "\n",
    "#print results   \n",
    "print('\\nTotal keys: ', len(list_key))\n",
    "print('Total present: ', i)\n",
    "print('Total not present ', len(list_key)-i)\n"
   ]
  }
 ],
 "metadata": {
  "kernelspec": {
   "display_name": "Python 3.8.5 64-bit ('base': conda)",
   "name": "python385jvsc74a57bd008f3f458660fce00c4e9a03ef8a038896277f9ff93c2660d371889bd57491ba2"
  },
  "language_info": {
   "codemirror_mode": {
    "name": "ipython",
    "version": 3
   },
   "file_extension": ".py",
   "mimetype": "text/x-python",
   "name": "python",
   "nbconvert_exporter": "python",
   "pygments_lexer": "ipython3",
   "version": "3.8.5"
  },
  "orig_nbformat": 2
 },
 "nbformat": 4,
 "nbformat_minor": 2
}