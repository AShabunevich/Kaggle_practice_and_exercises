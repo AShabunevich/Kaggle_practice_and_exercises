{
 "metadata": {
  "language_info": {
   "codemirror_mode": {
    "name": "ipython",
    "version": 3
   },
   "file_extension": ".py",
   "mimetype": "text/x-python",
   "name": "python",
   "nbconvert_exporter": "python",
   "pygments_lexer": "ipython3",
   "version": "3.8.5-final"
  },
  "orig_nbformat": 2,
  "kernelspec": {
   "name": "python3",
   "display_name": "Python 3",
   "language": "python"
  }
 },
 "nbformat": 4,
 "nbformat_minor": 2,
 "cells": [
  {
   "source": [
    "Load libraries and data."
   ],
   "cell_type": "markdown",
   "metadata": {}
  },
  {
   "cell_type": "code",
   "execution_count": 1,
   "metadata": {},
   "outputs": [],
   "source": [
    "import os\n",
    "os.environ[\"GOOGLE_APPLICATION_CREDENTIALS\"]=\"/Users/anastasiyashabunevich/Desktop/Kaggle/ashabunevich_key.json\""
   ]
  },
  {
   "cell_type": "code",
   "execution_count": 2,
   "metadata": {},
   "outputs": [
    {
     "output_type": "execute_result",
     "data": {
      "text/plain": [
       "                        location       city country pollutant   value  \\\n",
       "0  BTM Layout, Bengaluru - KSPCB  Bengaluru      IN        co  910.00   \n",
       "1  BTM Layout, Bengaluru - KSPCB  Bengaluru      IN       no2  131.87   \n",
       "2  BTM Layout, Bengaluru - KSPCB  Bengaluru      IN        o3   15.57   \n",
       "3  BTM Layout, Bengaluru - KSPCB  Bengaluru      IN      pm25   45.62   \n",
       "4  BTM Layout, Bengaluru - KSPCB  Bengaluru      IN       so2    4.49   \n",
       "\n",
       "                  timestamp   unit source_name   latitude  longitude  \\\n",
       "0 2018-02-22 03:00:00+00:00  µg/m³        CPCB  12.912811   77.60922   \n",
       "1 2018-02-22 03:00:00+00:00  µg/m³        CPCB  12.912811   77.60922   \n",
       "2 2018-02-22 03:00:00+00:00  µg/m³        CPCB  12.912811   77.60922   \n",
       "3 2018-02-22 03:00:00+00:00  µg/m³        CPCB  12.912811   77.60922   \n",
       "4 2018-02-22 03:00:00+00:00  µg/m³        CPCB  12.912811   77.60922   \n",
       "\n",
       "   averaged_over_in_hours  \n",
       "0                    0.25  \n",
       "1                    0.25  \n",
       "2                    0.25  \n",
       "3                    0.25  \n",
       "4                    0.25  "
      ],
      "text/html": "<div>\n<style scoped>\n    .dataframe tbody tr th:only-of-type {\n        vertical-align: middle;\n    }\n\n    .dataframe tbody tr th {\n        vertical-align: top;\n    }\n\n    .dataframe thead th {\n        text-align: right;\n    }\n</style>\n<table border=\"1\" class=\"dataframe\">\n  <thead>\n    <tr style=\"text-align: right;\">\n      <th></th>\n      <th>location</th>\n      <th>city</th>\n      <th>country</th>\n      <th>pollutant</th>\n      <th>value</th>\n      <th>timestamp</th>\n      <th>unit</th>\n      <th>source_name</th>\n      <th>latitude</th>\n      <th>longitude</th>\n      <th>averaged_over_in_hours</th>\n    </tr>\n  </thead>\n  <tbody>\n    <tr>\n      <th>0</th>\n      <td>BTM Layout, Bengaluru - KSPCB</td>\n      <td>Bengaluru</td>\n      <td>IN</td>\n      <td>co</td>\n      <td>910.00</td>\n      <td>2018-02-22 03:00:00+00:00</td>\n      <td>µg/m³</td>\n      <td>CPCB</td>\n      <td>12.912811</td>\n      <td>77.60922</td>\n      <td>0.25</td>\n    </tr>\n    <tr>\n      <th>1</th>\n      <td>BTM Layout, Bengaluru - KSPCB</td>\n      <td>Bengaluru</td>\n      <td>IN</td>\n      <td>no2</td>\n      <td>131.87</td>\n      <td>2018-02-22 03:00:00+00:00</td>\n      <td>µg/m³</td>\n      <td>CPCB</td>\n      <td>12.912811</td>\n      <td>77.60922</td>\n      <td>0.25</td>\n    </tr>\n    <tr>\n      <th>2</th>\n      <td>BTM Layout, Bengaluru - KSPCB</td>\n      <td>Bengaluru</td>\n      <td>IN</td>\n      <td>o3</td>\n      <td>15.57</td>\n      <td>2018-02-22 03:00:00+00:00</td>\n      <td>µg/m³</td>\n      <td>CPCB</td>\n      <td>12.912811</td>\n      <td>77.60922</td>\n      <td>0.25</td>\n    </tr>\n    <tr>\n      <th>3</th>\n      <td>BTM Layout, Bengaluru - KSPCB</td>\n      <td>Bengaluru</td>\n      <td>IN</td>\n      <td>pm25</td>\n      <td>45.62</td>\n      <td>2018-02-22 03:00:00+00:00</td>\n      <td>µg/m³</td>\n      <td>CPCB</td>\n      <td>12.912811</td>\n      <td>77.60922</td>\n      <td>0.25</td>\n    </tr>\n    <tr>\n      <th>4</th>\n      <td>BTM Layout, Bengaluru - KSPCB</td>\n      <td>Bengaluru</td>\n      <td>IN</td>\n      <td>so2</td>\n      <td>4.49</td>\n      <td>2018-02-22 03:00:00+00:00</td>\n      <td>µg/m³</td>\n      <td>CPCB</td>\n      <td>12.912811</td>\n      <td>77.60922</td>\n      <td>0.25</td>\n    </tr>\n  </tbody>\n</table>\n</div>"
     },
     "metadata": {},
     "execution_count": 2
    }
   ],
   "source": [
    "from google.cloud import bigquery\n",
    "\n",
    "#create 'Client' object\n",
    "client = bigquery.Client()\n",
    "\n",
    "#constract reference to 'openaq' dataset\n",
    "dataset_ref = client.dataset('openaq', project='bigquery-public-data')\n",
    "\n",
    "#API request - fetch the dataset\n",
    "dataset = client.get_dataset(dataset_ref)\n",
    "\n",
    "#construct reference to 'global_air_quality' table\n",
    "table_ref = dataset_ref.table('global_air_quality')\n",
    "\n",
    "#API request - fetch the table\n",
    "table = client.get_table(table_ref)\n",
    "\n",
    "#preview 'global_air_quality' table with five rows\n",
    "client.list_rows(table, max_results=5).to_dataframe()"
   ]
  },
  {
   "source": [
    "### 1) Units of measurement\n",
    "\n",
    "Which countries have reported pollution levels in units of \"ppm\"?  In the code cell below, set `first_query` to an SQL query that pulls the appropriate entries from the `country` column."
   ],
   "cell_type": "markdown",
   "metadata": {}
  },
  {
   "cell_type": "code",
   "execution_count": 3,
   "metadata": {},
   "outputs": [
    {
     "output_type": "stream",
     "name": "stdout",
     "text": [
      "  country\n0      US\n1      CL\n2      AU\n3      BM\n4      MX\n"
     ]
    }
   ],
   "source": [
    "#query to select data with units 'ppm'\n",
    "first_query = \"\"\"\n",
    "              SELECT DISTINCT country\n",
    "              FROM `bigquery-public-data.openaq.global_air_quality`\n",
    "              WHERE unit = \"ppm\"\n",
    "              \"\"\"\n",
    "\n",
    "#set query to 10 GB\n",
    "safe_config = bigquery.QueryJobConfig(maximum_bytes_billed=10**10)\n",
    "first_query_job = client.query(first_query, job_config=safe_config)\n",
    "\n",
    "#API request - run query and return pandas DataFrame\n",
    "first_results = first_query_job.to_dataframe()\n",
    "\n",
    "#view top 5 rows of result\n",
    "print(first_results.head())"
   ]
  },
  {
   "source": [
    "### 2) High air quality\n",
    "\n",
    "Which pollution levels were reported to be exactly 0?  \n",
    "- Set `zero_pollution_query` to select **all columns** of the rows where the `value` column is 0.\n",
    "- Set `zero_pollution_results` to a pandas DataFrame containing the query results."
   ],
   "cell_type": "markdown",
   "metadata": {}
  },
  {
   "cell_type": "code",
   "execution_count": 4,
   "metadata": {},
   "outputs": [
    {
     "output_type": "stream",
     "name": "stdout",
     "text": [
      "                                        location     city country pollutant  \\\n0                     Victoria Memorial - WBSPCB  Kolkata      IN      pm25   \n1  Rabindra Bharati University, Kolkata - WBSPCB  Kolkata      IN       so2   \n2                   Zamość ul. Hrubieszowska 69A   Zamość      PL       no2   \n3                               Końskie, MOBILNA  Końskie      PL      pm10   \n4                               Końskie, MOBILNA  Końskie      PL      pm25   \n\n   value                 timestamp   unit source_name   latitude  longitude  \\\n0    0.0 2017-10-16 20:45:00+00:00  µg/m³        CPCB  22.572645  88.363890   \n1    0.0 2017-10-28 14:30:00+00:00  µg/m³        CPCB  22.627874  88.380400   \n2    0.0 2020-05-19 05:00:00+00:00  µg/m³        GIOS  50.716630  23.290247   \n3    0.0 2018-12-21 13:00:00+00:00  µg/m³        GIOS  51.189526  20.408892   \n4    0.0 2018-12-21 13:00:00+00:00  µg/m³        GIOS  51.189526  20.408892   \n\n   averaged_over_in_hours  \n0                    0.25  \n1                    0.25  \n2                     NaN  \n3                     NaN  \n4                     NaN  \n"
     ]
    }
   ],
   "source": [
    "# Query to select all columns where pollution levels are exactly 0\n",
    "zero_pollution_query = \"\"\"\n",
    "                       SELECT *\n",
    "                       FROM `bigquery-public-data.openaq.global_air_quality`\n",
    "                       WHERE value = 0\n",
    "                       \"\"\"\n",
    "\n",
    "# Set up the query to 10 GB\n",
    "safe_config = bigquery.QueryJobConfig(maximum_bytes_billed=10**10)\n",
    "query_job = client.query(zero_pollution_query, job_config=safe_config)\n",
    "\n",
    "# API request - run the query and return a pandas DataFrame\n",
    "zero_pollution_results = query_job.to_dataframe() \n",
    "\n",
    "#print result \n",
    "print(zero_pollution_results.head())"
   ]
  },
  {
   "cell_type": "code",
   "execution_count": null,
   "metadata": {},
   "outputs": [],
   "source": []
  }
 ]
}