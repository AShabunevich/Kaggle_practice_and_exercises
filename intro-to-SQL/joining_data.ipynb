{
 "metadata": {
  "language_info": {
   "codemirror_mode": {
    "name": "ipython",
    "version": 3
   },
   "file_extension": ".py",
   "mimetype": "text/x-python",
   "name": "python",
   "nbconvert_exporter": "python",
   "pygments_lexer": "ipython3",
   "version": "3.8.5-final"
  },
  "orig_nbformat": 2,
  "kernelspec": {
   "name": "python3",
   "display_name": "Python 3",
   "language": "python"
  }
 },
 "nbformat": 4,
 "nbformat_minor": 2,
 "cells": [
  {
   "cell_type": "code",
   "execution_count": 1,
   "metadata": {},
   "outputs": [],
   "source": [
    "import os\n",
    "os.environ[\"GOOGLE_APPLICATION_CREDENTIALS\"]=\"/Users/anastasiyashabunevich/Desktop/Kaggle/ashabunevich_key.json\""
   ]
  },
  {
   "cell_type": "code",
   "execution_count": 2,
   "metadata": {},
   "outputs": [],
   "source": [
    "from google.cloud import bigquery\n",
    "\n",
    "# Create a \"Client\" object\n",
    "client = bigquery.Client()\n",
    "\n",
    "# Construct a reference to the \"stackoverflow\" dataset\n",
    "dataset_ref = client.dataset(\"stackoverflow\", project=\"bigquery-public-data\")\n",
    "\n",
    "# API request - fetch the dataset\n",
    "dataset = client.get_dataset(dataset_ref)"
   ]
  },
  {
   "source": [
    "### 1) Explore the data\n",
    "\n",
    "Before writing queries or **JOIN** clauses, you'll want to see what tables are available."
   ],
   "cell_type": "markdown",
   "metadata": {}
  },
  {
   "cell_type": "code",
   "execution_count": 3,
   "metadata": {},
   "outputs": [
    {
     "output_type": "stream",
     "name": "stdout",
     "text": [
      "['badges', 'comments', 'post_history', 'post_links', 'posts_answers', 'posts_moderator_nomination', 'posts_orphaned_tag_wiki', 'posts_privilege_wiki', 'posts_questions', 'posts_tag_wiki', 'posts_tag_wiki_excerpt', 'posts_wiki_placeholder', 'stackoverflow_posts', 'tags', 'users', 'votes']\n"
     ]
    }
   ],
   "source": [
    "# Get a list of available tables \n",
    "tables = list(client.list_tables(dataset))\n",
    "list_of_tables = [table.table_id for table in tables] \n",
    "\n",
    "# Print your answer\n",
    "print(list_of_tables)"
   ]
  },
  {
   "source": [
    "### 2) Review relevant tables\n",
    "\n",
    "If you are interested in people who answer questions on a given topic, the `posts_answers` table is a natural place to look. Run the following cell, and look at the output."
   ],
   "cell_type": "markdown",
   "metadata": {}
  },
  {
   "cell_type": "code",
   "execution_count": 4,
   "metadata": {},
   "outputs": [
    {
     "output_type": "execute_result",
     "data": {
      "text/plain": [
       "         id title                                               body  \\\n",
       "0  64548693  None  <p>My workaround without ejecting:</p>\\n<ol>\\n...   \n",
       "1  64548694  None  <p>The execution thread may be secluded on dif...   \n",
       "2  64548698  None  <p><code>vw</code> is well supported, so can b...   \n",
       "3  64548705  None  <p>This could be simple. Please check that you...   \n",
       "4  64548730  None  <p>Install the flutter plugin on android studi...   \n",
       "\n",
       "  accepted_answer_id answer_count  comment_count community_owned_date  \\\n",
       "0               None         None              0                  NaT   \n",
       "1               None         None              1                  NaT   \n",
       "2               None         None              0                  NaT   \n",
       "3               None         None              0                  NaT   \n",
       "4               None         None              3                  NaT   \n",
       "\n",
       "                     creation_date favorite_count  \\\n",
       "0 2020-10-27 05:20:53.417000+00:00           None   \n",
       "1 2020-10-27 05:21:15.397000+00:00           None   \n",
       "2 2020-10-27 05:22:37.873000+00:00           None   \n",
       "3 2020-10-27 05:23:43.193000+00:00           None   \n",
       "4 2020-10-27 05:26:53.640000+00:00           None   \n",
       "\n",
       "                last_activity_date last_edit_date last_editor_display_name  \\\n",
       "0 2020-10-27 05:20:53.417000+00:00            NaT                     None   \n",
       "1 2020-10-27 05:21:15.397000+00:00            NaT                     None   \n",
       "2 2020-10-27 05:22:37.873000+00:00            NaT                     None   \n",
       "3 2020-10-27 05:23:43.193000+00:00            NaT                     None   \n",
       "4 2020-10-27 05:26:53.640000+00:00            NaT                     None   \n",
       "\n",
       "   last_editor_user_id owner_display_name  owner_user_id  parent_id  \\\n",
       "0                  NaN               None        9428719   55821078   \n",
       "1                  NaN               None       13927193   33876455   \n",
       "2                  NaN               None        8942566   64548101   \n",
       "3                  NaN               None       13832463   64276190   \n",
       "4                  NaN               None       11211493   64443398   \n",
       "\n",
       "   post_type_id  score  tags view_count  \n",
       "0             2      0  None       None  \n",
       "1             2      0  None       None  \n",
       "2             2      0  None       None  \n",
       "3             2      0  None       None  \n",
       "4             2      0  None       None  "
      ],
      "text/html": "<div>\n<style scoped>\n    .dataframe tbody tr th:only-of-type {\n        vertical-align: middle;\n    }\n\n    .dataframe tbody tr th {\n        vertical-align: top;\n    }\n\n    .dataframe thead th {\n        text-align: right;\n    }\n</style>\n<table border=\"1\" class=\"dataframe\">\n  <thead>\n    <tr style=\"text-align: right;\">\n      <th></th>\n      <th>id</th>\n      <th>title</th>\n      <th>body</th>\n      <th>accepted_answer_id</th>\n      <th>answer_count</th>\n      <th>comment_count</th>\n      <th>community_owned_date</th>\n      <th>creation_date</th>\n      <th>favorite_count</th>\n      <th>last_activity_date</th>\n      <th>last_edit_date</th>\n      <th>last_editor_display_name</th>\n      <th>last_editor_user_id</th>\n      <th>owner_display_name</th>\n      <th>owner_user_id</th>\n      <th>parent_id</th>\n      <th>post_type_id</th>\n      <th>score</th>\n      <th>tags</th>\n      <th>view_count</th>\n    </tr>\n  </thead>\n  <tbody>\n    <tr>\n      <th>0</th>\n      <td>64548693</td>\n      <td>None</td>\n      <td>&lt;p&gt;My workaround without ejecting:&lt;/p&gt;\\n&lt;ol&gt;\\n...</td>\n      <td>None</td>\n      <td>None</td>\n      <td>0</td>\n      <td>NaT</td>\n      <td>2020-10-27 05:20:53.417000+00:00</td>\n      <td>None</td>\n      <td>2020-10-27 05:20:53.417000+00:00</td>\n      <td>NaT</td>\n      <td>None</td>\n      <td>NaN</td>\n      <td>None</td>\n      <td>9428719</td>\n      <td>55821078</td>\n      <td>2</td>\n      <td>0</td>\n      <td>None</td>\n      <td>None</td>\n    </tr>\n    <tr>\n      <th>1</th>\n      <td>64548694</td>\n      <td>None</td>\n      <td>&lt;p&gt;The execution thread may be secluded on dif...</td>\n      <td>None</td>\n      <td>None</td>\n      <td>1</td>\n      <td>NaT</td>\n      <td>2020-10-27 05:21:15.397000+00:00</td>\n      <td>None</td>\n      <td>2020-10-27 05:21:15.397000+00:00</td>\n      <td>NaT</td>\n      <td>None</td>\n      <td>NaN</td>\n      <td>None</td>\n      <td>13927193</td>\n      <td>33876455</td>\n      <td>2</td>\n      <td>0</td>\n      <td>None</td>\n      <td>None</td>\n    </tr>\n    <tr>\n      <th>2</th>\n      <td>64548698</td>\n      <td>None</td>\n      <td>&lt;p&gt;&lt;code&gt;vw&lt;/code&gt; is well supported, so can b...</td>\n      <td>None</td>\n      <td>None</td>\n      <td>0</td>\n      <td>NaT</td>\n      <td>2020-10-27 05:22:37.873000+00:00</td>\n      <td>None</td>\n      <td>2020-10-27 05:22:37.873000+00:00</td>\n      <td>NaT</td>\n      <td>None</td>\n      <td>NaN</td>\n      <td>None</td>\n      <td>8942566</td>\n      <td>64548101</td>\n      <td>2</td>\n      <td>0</td>\n      <td>None</td>\n      <td>None</td>\n    </tr>\n    <tr>\n      <th>3</th>\n      <td>64548705</td>\n      <td>None</td>\n      <td>&lt;p&gt;This could be simple. Please check that you...</td>\n      <td>None</td>\n      <td>None</td>\n      <td>0</td>\n      <td>NaT</td>\n      <td>2020-10-27 05:23:43.193000+00:00</td>\n      <td>None</td>\n      <td>2020-10-27 05:23:43.193000+00:00</td>\n      <td>NaT</td>\n      <td>None</td>\n      <td>NaN</td>\n      <td>None</td>\n      <td>13832463</td>\n      <td>64276190</td>\n      <td>2</td>\n      <td>0</td>\n      <td>None</td>\n      <td>None</td>\n    </tr>\n    <tr>\n      <th>4</th>\n      <td>64548730</td>\n      <td>None</td>\n      <td>&lt;p&gt;Install the flutter plugin on android studi...</td>\n      <td>None</td>\n      <td>None</td>\n      <td>3</td>\n      <td>NaT</td>\n      <td>2020-10-27 05:26:53.640000+00:00</td>\n      <td>None</td>\n      <td>2020-10-27 05:26:53.640000+00:00</td>\n      <td>NaT</td>\n      <td>None</td>\n      <td>NaN</td>\n      <td>None</td>\n      <td>11211493</td>\n      <td>64443398</td>\n      <td>2</td>\n      <td>0</td>\n      <td>None</td>\n      <td>None</td>\n    </tr>\n  </tbody>\n</table>\n</div>"
     },
     "metadata": {},
     "execution_count": 4
    }
   ],
   "source": [
    "# Construct a reference to the \"posts_answers\" table\n",
    "answers_table_ref = dataset_ref.table(\"posts_answers\")\n",
    "\n",
    "# API request - fetch the table\n",
    "answers_table = client.get_table(answers_table_ref)\n",
    "\n",
    "# Preview the first five lines of the \"posts_answers\" table\n",
    "client.list_rows(answers_table, max_results=5).to_dataframe()"
   ]
  },
  {
   "source": [
    "It isn't clear yet how to find users who answered questions on any given topic. But `posts_answers` has a `parent_id` column. If you are familiar with the Stack Overflow site, you might figure out that the `parent_id` is the question each post is answering.\n",
    "\n",
    "Look at `posts_questions` using the cell below."
   ],
   "cell_type": "markdown",
   "metadata": {}
  },
  {
   "cell_type": "code",
   "execution_count": 5,
   "metadata": {},
   "outputs": [
    {
     "output_type": "execute_result",
     "data": {
      "text/plain": [
       "         id                                              title  \\\n",
       "0  12040975                File read lines blue screen windows   \n",
       "1  12045786  How to insert a UITableViewCell at the beginni...   \n",
       "2  12073211  Composite-Component within a form that require...   \n",
       "3  12077718  Accessing non-static grid element in windows p...   \n",
       "4  12086962  mssql/php - Looping through resultset and perf...   \n",
       "\n",
       "                                                body  accepted_answer_id  \\\n",
       "0  <p>What problem in this code?? It crash my win...                 NaN   \n",
       "1  <p>I am trying to set up a UITableView, with x...          12047459.0   \n",
       "2  <p>A quick background : I have put a captcha u...          14285905.0   \n",
       "3  <p>I've got a page:</p>\\n\\n<pre><code>&lt;phon...          12099231.0   \n",
       "4  <p>I am fairly new to MSSQL and have never use...                 NaN   \n",
       "\n",
       "   answer_count  comment_count community_owned_date  \\\n",
       "0             1              2                  NaT   \n",
       "1             3              0                  NaT   \n",
       "2             1              4                  NaT   \n",
       "3             1              0                  NaT   \n",
       "4             1              0                  NaT   \n",
       "\n",
       "                     creation_date  favorite_count  \\\n",
       "0 2012-08-20 15:51:31.053000+00:00             NaN   \n",
       "1 2012-08-20 21:56:03.590000+00:00             NaN   \n",
       "2 2012-08-22 12:30:37.910000+00:00             NaN   \n",
       "3 2012-08-22 16:44:00.593000+00:00             NaN   \n",
       "4 2012-08-23 07:44:27.517000+00:00             NaN   \n",
       "\n",
       "                last_activity_date                   last_edit_date  \\\n",
       "0 2013-03-28 11:06:44.740000+00:00                              NaT   \n",
       "1 2012-08-21 05:13:07.037000+00:00 2012-08-21 05:13:07.037000+00:00   \n",
       "2 2013-01-11 20:11:41.810000+00:00 2017-05-23 12:20:08.800000+00:00   \n",
       "3 2012-08-23 20:11:53.943000+00:00                              NaT   \n",
       "4 2012-08-30 05:38:19.107000+00:00                              NaT   \n",
       "\n",
       "  last_editor_display_name  last_editor_user_id owner_display_name  \\\n",
       "0                     None                  NaN               None   \n",
       "1                     None              23897.0               None   \n",
       "2                     None                 -1.0               None   \n",
       "3                     None                  NaN               None   \n",
       "4                     None                  NaN               None   \n",
       "\n",
       "   owner_user_id parent_id  post_type_id  score  \\\n",
       "0         719323      None             1      0   \n",
       "1         748343      None             1      0   \n",
       "2         686036      None             1      0   \n",
       "3        1279293      None             1      0   \n",
       "4        1001034      None             1      0   \n",
       "\n",
       "                                   tags  view_count  \n",
       "0                  windows-7|python-2.7         256  \n",
       "1                iphone|ios|uitableview         256  \n",
       "2  java|forms|jsf-2|composite-component         256  \n",
       "3                      c#|windows-phone         256  \n",
       "4              php|sql-server|in-memory         256  "
      ],
      "text/html": "<div>\n<style scoped>\n    .dataframe tbody tr th:only-of-type {\n        vertical-align: middle;\n    }\n\n    .dataframe tbody tr th {\n        vertical-align: top;\n    }\n\n    .dataframe thead th {\n        text-align: right;\n    }\n</style>\n<table border=\"1\" class=\"dataframe\">\n  <thead>\n    <tr style=\"text-align: right;\">\n      <th></th>\n      <th>id</th>\n      <th>title</th>\n      <th>body</th>\n      <th>accepted_answer_id</th>\n      <th>answer_count</th>\n      <th>comment_count</th>\n      <th>community_owned_date</th>\n      <th>creation_date</th>\n      <th>favorite_count</th>\n      <th>last_activity_date</th>\n      <th>last_edit_date</th>\n      <th>last_editor_display_name</th>\n      <th>last_editor_user_id</th>\n      <th>owner_display_name</th>\n      <th>owner_user_id</th>\n      <th>parent_id</th>\n      <th>post_type_id</th>\n      <th>score</th>\n      <th>tags</th>\n      <th>view_count</th>\n    </tr>\n  </thead>\n  <tbody>\n    <tr>\n      <th>0</th>\n      <td>12040975</td>\n      <td>File read lines blue screen windows</td>\n      <td>&lt;p&gt;What problem in this code?? It crash my win...</td>\n      <td>NaN</td>\n      <td>1</td>\n      <td>2</td>\n      <td>NaT</td>\n      <td>2012-08-20 15:51:31.053000+00:00</td>\n      <td>NaN</td>\n      <td>2013-03-28 11:06:44.740000+00:00</td>\n      <td>NaT</td>\n      <td>None</td>\n      <td>NaN</td>\n      <td>None</td>\n      <td>719323</td>\n      <td>None</td>\n      <td>1</td>\n      <td>0</td>\n      <td>windows-7|python-2.7</td>\n      <td>256</td>\n    </tr>\n    <tr>\n      <th>1</th>\n      <td>12045786</td>\n      <td>How to insert a UITableViewCell at the beginni...</td>\n      <td>&lt;p&gt;I am trying to set up a UITableView, with x...</td>\n      <td>12047459.0</td>\n      <td>3</td>\n      <td>0</td>\n      <td>NaT</td>\n      <td>2012-08-20 21:56:03.590000+00:00</td>\n      <td>NaN</td>\n      <td>2012-08-21 05:13:07.037000+00:00</td>\n      <td>2012-08-21 05:13:07.037000+00:00</td>\n      <td>None</td>\n      <td>23897.0</td>\n      <td>None</td>\n      <td>748343</td>\n      <td>None</td>\n      <td>1</td>\n      <td>0</td>\n      <td>iphone|ios|uitableview</td>\n      <td>256</td>\n    </tr>\n    <tr>\n      <th>2</th>\n      <td>12073211</td>\n      <td>Composite-Component within a form that require...</td>\n      <td>&lt;p&gt;A quick background : I have put a captcha u...</td>\n      <td>14285905.0</td>\n      <td>1</td>\n      <td>4</td>\n      <td>NaT</td>\n      <td>2012-08-22 12:30:37.910000+00:00</td>\n      <td>NaN</td>\n      <td>2013-01-11 20:11:41.810000+00:00</td>\n      <td>2017-05-23 12:20:08.800000+00:00</td>\n      <td>None</td>\n      <td>-1.0</td>\n      <td>None</td>\n      <td>686036</td>\n      <td>None</td>\n      <td>1</td>\n      <td>0</td>\n      <td>java|forms|jsf-2|composite-component</td>\n      <td>256</td>\n    </tr>\n    <tr>\n      <th>3</th>\n      <td>12077718</td>\n      <td>Accessing non-static grid element in windows p...</td>\n      <td>&lt;p&gt;I've got a page:&lt;/p&gt;\\n\\n&lt;pre&gt;&lt;code&gt;&amp;lt;phon...</td>\n      <td>12099231.0</td>\n      <td>1</td>\n      <td>0</td>\n      <td>NaT</td>\n      <td>2012-08-22 16:44:00.593000+00:00</td>\n      <td>NaN</td>\n      <td>2012-08-23 20:11:53.943000+00:00</td>\n      <td>NaT</td>\n      <td>None</td>\n      <td>NaN</td>\n      <td>None</td>\n      <td>1279293</td>\n      <td>None</td>\n      <td>1</td>\n      <td>0</td>\n      <td>c#|windows-phone</td>\n      <td>256</td>\n    </tr>\n    <tr>\n      <th>4</th>\n      <td>12086962</td>\n      <td>mssql/php - Looping through resultset and perf...</td>\n      <td>&lt;p&gt;I am fairly new to MSSQL and have never use...</td>\n      <td>NaN</td>\n      <td>1</td>\n      <td>0</td>\n      <td>NaT</td>\n      <td>2012-08-23 07:44:27.517000+00:00</td>\n      <td>NaN</td>\n      <td>2012-08-30 05:38:19.107000+00:00</td>\n      <td>NaT</td>\n      <td>None</td>\n      <td>NaN</td>\n      <td>None</td>\n      <td>1001034</td>\n      <td>None</td>\n      <td>1</td>\n      <td>0</td>\n      <td>php|sql-server|in-memory</td>\n      <td>256</td>\n    </tr>\n  </tbody>\n</table>\n</div>"
     },
     "metadata": {},
     "execution_count": 5
    }
   ],
   "source": [
    "# Construct a reference to the \"posts_questions\" table\n",
    "questions_table_ref = dataset_ref.table(\"posts_questions\")\n",
    "\n",
    "# API request - fetch the table\n",
    "questions_table = client.get_table(questions_table_ref)\n",
    "\n",
    "# Preview the first five lines of the \"posts_questions\" table\n",
    "client.list_rows(questions_table, max_results=5).to_dataframe()"
   ]
  },
  {
   "source": [
    "Are there any fields that identify what topic or technology each question is about? If so, how could you find the IDs of users who answered questions about a specific topic?\n",
    "\n",
    "- Solution: `posts_questions` has a column called `tags` which lists the topics/technologies each question is about.\n",
    "`posts_answers` has a column called `parent_id` which identifies the ID of the question each answer is responding to. `posts_answers` also has an `owner_user_id` column which specifies the ID of the user who answered the question.\n",
    "\n",
    "- You can join these two tables to: determine the `tags` for each answer, and then select the `owner_user_id` of the answers on the desired tag.\n",
    "\n"
   ],
   "cell_type": "markdown",
   "metadata": {}
  },
  {
   "source": [
    "### 3) Selecting the right questions\n",
    "\n",
    "Write a query that selects the `id`, `title` and `owner_user_id` columns from the `posts_questions` table. \n",
    "- Restrict the results to rows that contain the word \"bigquery\" in the `tags` column. \n",
    "- Include rows where there is other text in addition to the word \"bigquery\" (e.g., if a row has a tag \"bigquery-sql\", your results should include that too)."
   ],
   "cell_type": "markdown",
   "metadata": {}
  },
  {
   "cell_type": "code",
   "execution_count": 6,
   "metadata": {},
   "outputs": [
    {
     "output_type": "stream",
     "name": "stdout",
     "text": [
      "         id                                              title  owner_user_id\n0  64870863  I want to save spark JavaRDD data to bigquery ...      3020641.0\n1  65163522  How can I translate an ENUM from my Avro schem...      2299087.0\n2  64869110  How to see all shared queries in the \"Project ...     14646421.0\n3  64964489  PybigQuery: Slice a query beyond certain bytes...      8176451.0\n4  65149611  Update specific BQ partition or data range wit...     13157288.0\n"
     ]
    }
   ],
   "source": [
    "questions_query = \"\"\"\n",
    "                  SELECT id, title, owner_user_id\n",
    "                  FROM `bigquery-public-data.stackoverflow.posts_questions`\n",
    "                  WHERE tags LIKE '%bigquery%'\n",
    "                  \"\"\"\n",
    "\n",
    "# Set up the query to 1 GB)\n",
    "safe_config = bigquery.QueryJobConfig(maximum_bytes_billed=10**10)\n",
    "questions_query_job = client.query(questions_query, job_config=safe_config)\n",
    "\n",
    "# API request - run the query, and return a pandas DataFrame\n",
    "questions_results = questions_query_job.to_dataframe()\n",
    "\n",
    "# Preview results\n",
    "print(questions_results.head())"
   ]
  },
  {
   "source": [
    "### 4) Your first join\n",
    "Now that you have a query to select questions on any given topic (in this case, you chose \"bigquery\"), you can find the answers to those questions with a **JOIN**.  \n",
    "\n",
    "Write a query that returns the `id`, `body` and `owner_user_id` columns from the `posts_answers` table for answers to \"bigquery\"-related questions. \n",
    "- You should have one row in your results for each answer to a question that has \"bigquery\" in the tags.  \n",
    "- Remember you can get the tags for a question from the `tags` column in the `posts_questions` table."
   ],
   "cell_type": "markdown",
   "metadata": {}
  },
  {
   "cell_type": "code",
   "execution_count": 11,
   "metadata": {},
   "outputs": [
    {
     "output_type": "stream",
     "name": "stdout",
     "text": [
      "         id                                               body  owner_user_id\n0  32381210  <p>For uniquePageViews you better want to use ...      4274130.0\n1  32460356  <p>Not knowing the internals of BigQuery, I wo...      2417948.0\n2  32460605  <p>JOIN EACH should be used when your table yo...      2417948.0\n3  32463035  <p>This question is a feature request which wo...      4270992.0\n4  32565498  <p>How you can achieve by-</p>\\n\\n<pre><code>S...      3291973.0\n"
     ]
    }
   ],
   "source": [
    "answers_query = \"\"\"\n",
    "                SELECT a.id, a.body, a.owner_user_id\n",
    "                FROM `bigquery-public-data.stackoverflow.posts_questions` AS q \n",
    "                INNER JOIN `bigquery-public-data.stackoverflow.posts_answers` AS a\n",
    "                    ON q.id = a.parent_id\n",
    "                WHERE q.tags LIKE '%bigquery%'\n",
    "                \"\"\"\n",
    "\n",
    "# Set up the query to 1 GB\n",
    "safe_config = bigquery.QueryJobConfig(maximum_bytes_billed=26404192256)\n",
    "answers_query_job = client.query(answers_query, job_config=safe_config)\n",
    "\n",
    "# API request - run the query, and return a pandas DataFrame\n",
    "answers_results = answers_query_job.to_dataframe()\n",
    "\n",
    "# Preview results\n",
    "print(answers_results.head())"
   ]
  },
  {
   "source": [
    "### 5) Answer the question\n",
    "You have the merge you need. But you want a list of users who have answered many questions... which requires more work beyond your previous result.\n",
    "\n",
    "Write a new query that has a single row for each user who answered at least one question with a tag that includes the string \"bigquery\". Your results should have two columns:\n",
    "- `user_id` - contains the `owner_user_id` column from the `posts_answers` table\n",
    "- `number_of_answers` - contains the number of answers the user has written to \"bigquery\"-related questions"
   ],
   "cell_type": "markdown",
   "metadata": {}
  },
  {
   "cell_type": "code",
   "execution_count": 8,
   "metadata": {},
   "outputs": [
    {
     "output_type": "stream",
     "name": "stdout",
     "text": [
      "      user_id  number_of_answers\n0  11329071.0                  3\n1   4182296.0                  1\n2   4522678.0                  1\n3   9741888.0                 18\n4   2666739.0                  1\n"
     ]
    }
   ],
   "source": [
    "\n",
    "bigquery_experts_query = \"\"\"\n",
    "                         SELECT a.owner_user_id AS user_id, COUNT(1) AS number_of_answers\n",
    "                         FROM `bigquery-public-data.stackoverflow.posts_questions` AS q\n",
    "                         INNER JOIN `bigquery-public-data.stackoverflow.posts_answers` AS a\n",
    "                             ON q.id = a.parent_Id\n",
    "                         WHERE q.tags LIKE '%bigquery%'\n",
    "                         GROUP BY a.owner_user_id\n",
    "                         \"\"\"\n",
    "\n",
    "# Set up the query to 1 GB\n",
    "safe_config = bigquery.QueryJobConfig(maximum_bytes_billed=10**10)\n",
    "bigquery_experts_query_job = client.query(bigquery_experts_query, job_config=safe_config)\n",
    "\n",
    "# API request - run the query, and return a pandas DataFrame\n",
    "bigquery_experts_results = bigquery_experts_query_job.to_dataframe()\n",
    "\n",
    "# Preview results\n",
    "print(bigquery_experts_results.head())"
   ]
  },
  {
   "source": [
    "### 6) Building a more generally useful service\n",
    "\n",
    "How could you convert what you've done to a general function a website could call on the backend to get experts on any topic?  "
   ],
   "cell_type": "markdown",
   "metadata": {}
  },
  {
   "cell_type": "code",
   "execution_count": null,
   "metadata": {},
   "outputs": [],
   "source": [
    "\n",
    "def expert_finder(topic, client):\n",
    "    '''\n",
    "    Returns a DataFrame with the user IDs who have written Stack Overflow answers on a topic.\n",
    "\n",
    "    Inputs:\n",
    "        topic: A string with the topic of interest\n",
    "        client: A Client object that specifies the connection to the Stack Overflow dataset\n",
    "\n",
    "    Outputs:\n",
    "        results: A DataFrame with columns for user_id and number_of_answers. Follows similar logic to bigquery_experts_results shown above.\n",
    "    '''\n",
    "    my_query = \"\"\"\n",
    "               SELECT a.owner_user_id AS user_id, COUNT(1) AS number_of_answers\n",
    "               FROM `bigquery-public-data.stackoverflow.posts_questions` AS q\n",
    "               INNER JOIN `bigquery-public-data.stackoverflow.posts_answers` AS a\n",
    "                   ON q.id = a.parent_Id\n",
    "               WHERE q.tags like '%{topic}%'\n",
    "               GROUP BY a.owner_user_id\n",
    "               \"\"\"\n",
    "\n",
    "    # Set up the query\n",
    "    safe_config = bigquery.QueryJobConfig(maximum_bytes_billed=10**10)      \n",
    "    my_query_job = client.query(my_query, job_config=safe_config)\n",
    "\n",
    "    # API request - run the query, and return a pandas DataFrame\n",
    "    results = my_query_job.to_dataframe()\n",
    "\n",
    "    return results\n"
   ]
  }
 ]
}