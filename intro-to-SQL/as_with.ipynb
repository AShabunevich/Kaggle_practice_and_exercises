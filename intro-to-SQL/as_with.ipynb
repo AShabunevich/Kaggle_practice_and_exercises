{
 "metadata": {
  "language_info": {
   "codemirror_mode": {
    "name": "ipython",
    "version": 3
   },
   "file_extension": ".py",
   "mimetype": "text/x-python",
   "name": "python",
   "nbconvert_exporter": "python",
   "pygments_lexer": "ipython3",
   "version": "3.8.5-final"
  },
  "orig_nbformat": 2,
  "kernelspec": {
   "name": "python3",
   "display_name": "Python 3",
   "language": "python"
  }
 },
 "nbformat": 4,
 "nbformat_minor": 2,
 "cells": [
  {
   "cell_type": "code",
   "execution_count": 1,
   "metadata": {},
   "outputs": [],
   "source": [
    "import os\n",
    "os.environ[\"GOOGLE_APPLICATION_CREDENTIALS\"]=\"/Users/anastasiyashabunevich/Desktop/Kaggle/ashabunevich_key.json\""
   ]
  },
  {
   "cell_type": "code",
   "execution_count": 2,
   "metadata": {},
   "outputs": [],
   "source": [
    "from google.cloud import bigquery\n",
    "\n",
    "# Create a \"Client\" object\n",
    "client = bigquery.Client()\n",
    "\n",
    "# Construct a reference to the \"chicago_taxi_trips\" dataset\n",
    "dataset_ref = client.dataset(\"chicago_taxi_trips\", project=\"bigquery-public-data\")\n",
    "\n",
    "# API request - fetch the dataset\n",
    "dataset = client.get_dataset(dataset_ref)"
   ]
  },
  {
   "source": [
    "### 1) Find the data\n",
    "Before you can access the data, you need to find the table name with the data.\n"
   ],
   "cell_type": "markdown",
   "metadata": {}
  },
  {
   "cell_type": "code",
   "execution_count": 3,
   "metadata": {},
   "outputs": [
    {
     "output_type": "stream",
     "name": "stdout",
     "text": [
      "taxi_trips\n"
     ]
    }
   ],
   "source": [
    "# List all the tables in the dataset\n",
    "tables = list(client.list_tables(dataset))\n",
    "\n",
    "# Print names of all tables in the dataset (there is only one!)\n",
    "for table in tables:  \n",
    "    print(table.table_id)"
   ]
  },
  {
   "source": [
    "### 2) Peek at the data\n",
    "\n",
    "Use the next code cell to peek at the top few rows of the data. Inspect the data and see if any issues with data quality are immediately obvious. "
   ],
   "cell_type": "markdown",
   "metadata": {}
  },
  {
   "cell_type": "code",
   "execution_count": 4,
   "metadata": {},
   "outputs": [
    {
     "output_type": "execute_result",
     "data": {
      "text/plain": [
       "                                 unique_key  \\\n",
       "0  2aa11ba5fdada1abcd60efeab6983c762d73df77   \n",
       "1  4db6678c2c1d2458ed01713919651666917ba33e   \n",
       "2  2ce0b8e189e622b51b75e3918b0068b3af79d8e8   \n",
       "3  e04f0c02a3b19d20101030753d58625bf5b72575   \n",
       "4  64db1b5bfaf05da4f699d33f317897a255bb3bca   \n",
       "\n",
       "                                             taxi_id  \\\n",
       "0  ecac7e5cafa5aed2b37a75e9888b0eb2a38a9ab5100c94...   \n",
       "1  24a472542efb2433c8f46ed2c0c08c39538e1c41c0178f...   \n",
       "2  5a7a34964ad3fbda860c6dbec8eabf560e85d11b7303b1...   \n",
       "3  ab2b9a0930835b7c79d794179c4e53c68aee771064e532...   \n",
       "4  b968bad5a2daed924a10e8ec4fb35513e060a076c575f7...   \n",
       "\n",
       "       trip_start_timestamp        trip_end_timestamp  trip_seconds  \\\n",
       "0 2016-03-09 08:45:00+00:00 2016-03-09 08:45:00+00:00             0   \n",
       "1 2016-03-08 16:00:00+00:00 2016-03-08 16:00:00+00:00             0   \n",
       "2 2014-10-09 18:00:00+00:00 2014-10-09 18:00:00+00:00             0   \n",
       "3 2014-11-17 15:00:00+00:00 2014-11-17 15:00:00+00:00             0   \n",
       "4 2014-09-24 19:15:00+00:00 2014-09-24 19:15:00+00:00             0   \n",
       "\n",
       "   trip_miles  pickup_census_tract  dropoff_census_tract  \\\n",
       "0         0.0                  NaN                   NaN   \n",
       "1         0.0                  NaN                   NaN   \n",
       "2         0.0                  NaN                   NaN   \n",
       "3         0.0                  NaN                   NaN   \n",
       "4         0.0                  NaN                   NaN   \n",
       "\n",
       "   pickup_community_area  dropoff_community_area  ...  extras  trip_total  \\\n",
       "0                    NaN                     NaN  ...     0.0        8.70   \n",
       "1                    NaN                     NaN  ...     0.0       12.60   \n",
       "2                    NaN                     NaN  ...     0.0       24.78   \n",
       "3                    NaN                     NaN  ...     0.0       48.65   \n",
       "4                    NaN                     NaN  ...     0.0       45.00   \n",
       "\n",
       "   payment_type                                   company  pickup_latitude  \\\n",
       "0   Credit Card  Chicago Elite Cab Corp. (Chicago Carriag              NaN   \n",
       "1   Credit Card  Chicago Elite Cab Corp. (Chicago Carriag              NaN   \n",
       "2   Credit Card  Chicago Elite Cab Corp. (Chicago Carriag              NaN   \n",
       "3   Credit Card  Chicago Elite Cab Corp. (Chicago Carriag              NaN   \n",
       "4   Credit Card                     T.A.S. - Payment Only              NaN   \n",
       "\n",
       "  pickup_longitude pickup_location  dropoff_latitude  dropoff_longitude  \\\n",
       "0              NaN            None               NaN                NaN   \n",
       "1              NaN            None               NaN                NaN   \n",
       "2              NaN            None               NaN                NaN   \n",
       "3              NaN            None               NaN                NaN   \n",
       "4              NaN            None               NaN                NaN   \n",
       "\n",
       "  dropoff_location  \n",
       "0             None  \n",
       "1             None  \n",
       "2             None  \n",
       "3             None  \n",
       "4             None  \n",
       "\n",
       "[5 rows x 23 columns]"
      ],
      "text/html": "<div>\n<style scoped>\n    .dataframe tbody tr th:only-of-type {\n        vertical-align: middle;\n    }\n\n    .dataframe tbody tr th {\n        vertical-align: top;\n    }\n\n    .dataframe thead th {\n        text-align: right;\n    }\n</style>\n<table border=\"1\" class=\"dataframe\">\n  <thead>\n    <tr style=\"text-align: right;\">\n      <th></th>\n      <th>unique_key</th>\n      <th>taxi_id</th>\n      <th>trip_start_timestamp</th>\n      <th>trip_end_timestamp</th>\n      <th>trip_seconds</th>\n      <th>trip_miles</th>\n      <th>pickup_census_tract</th>\n      <th>dropoff_census_tract</th>\n      <th>pickup_community_area</th>\n      <th>dropoff_community_area</th>\n      <th>...</th>\n      <th>extras</th>\n      <th>trip_total</th>\n      <th>payment_type</th>\n      <th>company</th>\n      <th>pickup_latitude</th>\n      <th>pickup_longitude</th>\n      <th>pickup_location</th>\n      <th>dropoff_latitude</th>\n      <th>dropoff_longitude</th>\n      <th>dropoff_location</th>\n    </tr>\n  </thead>\n  <tbody>\n    <tr>\n      <th>0</th>\n      <td>2aa11ba5fdada1abcd60efeab6983c762d73df77</td>\n      <td>ecac7e5cafa5aed2b37a75e9888b0eb2a38a9ab5100c94...</td>\n      <td>2016-03-09 08:45:00+00:00</td>\n      <td>2016-03-09 08:45:00+00:00</td>\n      <td>0</td>\n      <td>0.0</td>\n      <td>NaN</td>\n      <td>NaN</td>\n      <td>NaN</td>\n      <td>NaN</td>\n      <td>...</td>\n      <td>0.0</td>\n      <td>8.70</td>\n      <td>Credit Card</td>\n      <td>Chicago Elite Cab Corp. (Chicago Carriag</td>\n      <td>NaN</td>\n      <td>NaN</td>\n      <td>None</td>\n      <td>NaN</td>\n      <td>NaN</td>\n      <td>None</td>\n    </tr>\n    <tr>\n      <th>1</th>\n      <td>4db6678c2c1d2458ed01713919651666917ba33e</td>\n      <td>24a472542efb2433c8f46ed2c0c08c39538e1c41c0178f...</td>\n      <td>2016-03-08 16:00:00+00:00</td>\n      <td>2016-03-08 16:00:00+00:00</td>\n      <td>0</td>\n      <td>0.0</td>\n      <td>NaN</td>\n      <td>NaN</td>\n      <td>NaN</td>\n      <td>NaN</td>\n      <td>...</td>\n      <td>0.0</td>\n      <td>12.60</td>\n      <td>Credit Card</td>\n      <td>Chicago Elite Cab Corp. (Chicago Carriag</td>\n      <td>NaN</td>\n      <td>NaN</td>\n      <td>None</td>\n      <td>NaN</td>\n      <td>NaN</td>\n      <td>None</td>\n    </tr>\n    <tr>\n      <th>2</th>\n      <td>2ce0b8e189e622b51b75e3918b0068b3af79d8e8</td>\n      <td>5a7a34964ad3fbda860c6dbec8eabf560e85d11b7303b1...</td>\n      <td>2014-10-09 18:00:00+00:00</td>\n      <td>2014-10-09 18:00:00+00:00</td>\n      <td>0</td>\n      <td>0.0</td>\n      <td>NaN</td>\n      <td>NaN</td>\n      <td>NaN</td>\n      <td>NaN</td>\n      <td>...</td>\n      <td>0.0</td>\n      <td>24.78</td>\n      <td>Credit Card</td>\n      <td>Chicago Elite Cab Corp. (Chicago Carriag</td>\n      <td>NaN</td>\n      <td>NaN</td>\n      <td>None</td>\n      <td>NaN</td>\n      <td>NaN</td>\n      <td>None</td>\n    </tr>\n    <tr>\n      <th>3</th>\n      <td>e04f0c02a3b19d20101030753d58625bf5b72575</td>\n      <td>ab2b9a0930835b7c79d794179c4e53c68aee771064e532...</td>\n      <td>2014-11-17 15:00:00+00:00</td>\n      <td>2014-11-17 15:00:00+00:00</td>\n      <td>0</td>\n      <td>0.0</td>\n      <td>NaN</td>\n      <td>NaN</td>\n      <td>NaN</td>\n      <td>NaN</td>\n      <td>...</td>\n      <td>0.0</td>\n      <td>48.65</td>\n      <td>Credit Card</td>\n      <td>Chicago Elite Cab Corp. (Chicago Carriag</td>\n      <td>NaN</td>\n      <td>NaN</td>\n      <td>None</td>\n      <td>NaN</td>\n      <td>NaN</td>\n      <td>None</td>\n    </tr>\n    <tr>\n      <th>4</th>\n      <td>64db1b5bfaf05da4f699d33f317897a255bb3bca</td>\n      <td>b968bad5a2daed924a10e8ec4fb35513e060a076c575f7...</td>\n      <td>2014-09-24 19:15:00+00:00</td>\n      <td>2014-09-24 19:15:00+00:00</td>\n      <td>0</td>\n      <td>0.0</td>\n      <td>NaN</td>\n      <td>NaN</td>\n      <td>NaN</td>\n      <td>NaN</td>\n      <td>...</td>\n      <td>0.0</td>\n      <td>45.00</td>\n      <td>Credit Card</td>\n      <td>T.A.S. - Payment Only</td>\n      <td>NaN</td>\n      <td>NaN</td>\n      <td>None</td>\n      <td>NaN</td>\n      <td>NaN</td>\n      <td>None</td>\n    </tr>\n  </tbody>\n</table>\n<p>5 rows × 23 columns</p>\n</div>"
     },
     "metadata": {},
     "execution_count": 4
    }
   ],
   "source": [
    "# Construct a reference to the \"taxi_trips\" table\n",
    "table_ref = dataset_ref.table(\"taxi_trips\")\n",
    "\n",
    "# API request - fetch the table\n",
    "table = client.get_table(table_ref)\n",
    "\n",
    "# Preview the first five lines of the \"taxi_trips\" table\n",
    "client.list_rows(table, max_results=5).to_dataframe()"
   ]
  },
  {
   "source": [
    "### 3) Determine when this data is from\n",
    "\n",
    "If the data is sufficiently old, we might be careful before assuming the data is still relevant to traffic patterns today. Write a query that counts the number of trips in each year.  \n",
    "\n",
    "Your results should have two columns:\n",
    "- `year` - the year of the trips\n",
    "- `num_trips` - the number of trips in that year\n",
    "\n",
    "Hints:\n",
    "- When using **GROUP BY** and **ORDER BY**, you should refer to the columns by the alias `year` that you set at the top of the **SELECT** query.\n",
    "- The SQL code to **SELECT** the year from `trip_start_timestamp` is <code>SELECT EXTRACT(YEAR FROM trip_start_timestamp)</code>\n",
    "- The **FROM** field can be a little tricky until you are used to it.  The format is:\n",
    "    1. A backick (the symbol \\`).\n",
    "    2. The project name. In this case it is `bigquery-public-data`.\n",
    "    3. A period.\n",
    "    4. The dataset name. In this case, it is `chicago_taxi_trips`.\n",
    "    5. A period.\n",
    "    6. The table name. You used this as your answer in **1) Find the data**.\n",
    "    7. A backtick (the symbol \\`)."
   ],
   "cell_type": "markdown",
   "metadata": {}
  },
  {
   "cell_type": "code",
   "execution_count": 5,
   "metadata": {},
   "outputs": [
    {
     "output_type": "stream",
     "name": "stdout",
     "text": [
      "   year  num_trips\n0  2013   27217716\n1  2014   37395436\n2  2015   32385875\n3  2016   31759339\n4  2017   24988003\n5  2018   20732088\n6  2019   16477365\n7  2020    3889032\n8  2021         12\n"
     ]
    }
   ],
   "source": [
    "rides_per_year_query = \"\"\"\n",
    "                       SELECT EXTRACT(YEAR FROM trip_start_timestamp) AS year, \n",
    "                              COUNT(1) AS num_trips\n",
    "                       FROM `bigquery-public-data.chicago_taxi_trips.taxi_trips`\n",
    "                       GROUP BY year\n",
    "                       ORDER BY year\n",
    "                       \"\"\"\n",
    "\n",
    "# Set up the query\n",
    "safe_config = bigquery.QueryJobConfig(maximum_bytes_billed=10**10)\n",
    "rides_per_year_query_job = client.query(rides_per_year_query, job_config=safe_config)\n",
    "\n",
    "# API request - run the query, and return a pandas DataFrame\n",
    "rides_per_year_result = rides_per_year_query_job.to_dataframe()\n",
    "\n",
    "# View results\n",
    "print(rides_per_year_result)"
   ]
  },
  {
   "source": [
    "### 4) Dive slightly deeper\n",
    "\n",
    "You'd like to take a closer look at rides from 2017.  Copy the query you used above in `rides_per_year_query` into the cell below for `rides_per_month_query`.  Then modify it in two ways:\n",
    "\n",
    "1. Use a **WHERE** clause to limit the query to data from 2017.\n",
    "2. Modify the query to extract the month rather than the year."
   ],
   "cell_type": "markdown",
   "metadata": {}
  },
  {
   "cell_type": "code",
   "execution_count": 6,
   "metadata": {},
   "outputs": [
    {
     "output_type": "stream",
     "name": "stdout",
     "text": [
      "    month  num_trips\n0       1    1972071\n1       2    1909802\n2       3    2362105\n3       4    2194702\n4       5    2323386\n5       6    2324472\n6       7    2054299\n7       8    2079861\n8       9    1950631\n9      10    2141197\n10     11    1907997\n11     12    1767480\n"
     ]
    }
   ],
   "source": [
    "rides_per_month_query = \"\"\"\n",
    "                        SELECT EXTRACT(MONTH FROM trip_start_timestamp) AS month, \n",
    "                              COUNT(1) AS num_trips\n",
    "                        FROM `bigquery-public-data.chicago_taxi_trips.taxi_trips`\n",
    "                        WHERE EXTRACT(YEAR FROM trip_start_timestamp) = 2017\n",
    "                        GROUP BY month\n",
    "                        ORDER BY month\n",
    "                        \"\"\"\n",
    "# Set up the query\n",
    "safe_config = bigquery.QueryJobConfig(maximum_bytes_billed=10**10)\n",
    "rides_per_month_query_job = client.query(rides_per_month_query, job_config=safe_config)\n",
    "\n",
    "# API request - run the query, and return a pandas DataFrame\n",
    "rides_per_month_result = rides_per_month_query_job.to_dataframe()\n",
    "\n",
    "print(rides_per_month_result)"
   ]
  },
  {
   "source": [
    "### 5) Write the query\n",
    "\n",
    "It's time to step up the sophistication of your queries.  Write a query that shows, for each hour of the day in the dataset, the corresponding number of trips and average speed.\n",
    "\n",
    "Your results should have three columns:\n",
    "- `hour_of_day` - sort by this column, which holds the result of extracting the hour from `trip_start_timestamp`.\n",
    "- `num_trips` - the count of the total number of trips in each hour of the day (e.g. how many trips were started between 6AM and 7AM, independent of which day it occurred on).\n",
    "- `avg_mph` - the average speed, measured in miles per hour, for trips that started in that hour of the day.  Average speed in miles per hour is calculated as `3600 * SUM(trip_miles) / SUM(trip_seconds)`. (The value 3600 is used to convert from seconds to hours.)\n",
    "\n",
    "Restrict your query to data meeting the following criteria:\n",
    "- a `trip_start_timestamp` between **2017-01-01** and **2017-07-01**\n",
    "- `trip_seconds` > 0 and `trip_miles` > 0\n",
    "\n",
    "You will use a common table expression (CTE) to select just the relevant rides.  Because this dataset is very big, this CTE should select only the columns you'll need to create the final output (though you won't actually create those in the CTE -- instead you'll create those in the later **SELECT** statement below the CTE).\n",
    "\n",
    "This is a much harder query than anything you've written so far.  Good luck!"
   ],
   "cell_type": "markdown",
   "metadata": {}
  },
  {
   "cell_type": "code",
   "execution_count": 9,
   "metadata": {},
   "outputs": [
    {
     "output_type": "stream",
     "name": "stdout",
     "text": [
      "    hour_of_day  num_trips    avg_mph\n0             0     319339  20.230524\n1             1     266529  18.937621\n2             2     210147  18.777070\n3             3     159668  20.158048\n4             4     122183  26.736014\n5             5     119312  30.769172\n6             6     182738  24.588313\n7             7     358406  17.735967\n8             8     541775  15.079892\n9             9     565548  16.543882\n10           10     525120  18.539614\n11           11     594603  18.928379\n12           12     622324  17.838745\n13           13     630181  17.671089\n14           14     622465  16.974239\n15           15     640430  15.688418\n16           16     701435  14.283888\n17           17     756627  12.462955\n18           18     768251  13.646810\n19           19     701064  16.642882\n20           20     598614  19.536777\n21           21     552726  20.433874\n22           22     501095  19.531374\n23           23     399587  19.877046\n"
     ]
    }
   ],
   "source": [
    "speeds_query = \"\"\"\n",
    "               WITH RelevantRides AS\n",
    "               (\n",
    "                   SELECT EXTRACT(HOUR FROM trip_start_timestamp) AS hour_of_day, \n",
    "                          trip_miles, \n",
    "                          trip_seconds\n",
    "                   FROM `bigquery-public-data.chicago_taxi_trips.taxi_trips`\n",
    "                   WHERE trip_start_timestamp > '2017-01-01' AND \n",
    "                         trip_start_timestamp < '2017-07-01' AND \n",
    "                         trip_seconds > 0 AND \n",
    "                         trip_miles > 0\n",
    "               )\n",
    "               SELECT hour_of_day, \n",
    "                      COUNT(1) AS num_trips, \n",
    "                      3600 * SUM(trip_miles) / SUM(trip_seconds) AS avg_mph\n",
    "               FROM RelevantRides\n",
    "               GROUP BY hour_of_day\n",
    "               ORDER BY hour_of_day\n",
    "               \"\"\"\n",
    "\n",
    "# Set up the query\n",
    "safe_config = bigquery.QueryJobConfig(maximum_bytes_billed=10**10)\n",
    "speeds_query_job = client.query(speeds_query, job_config=safe_config)\n",
    "\n",
    "# API request - run the query, and return a pandas DataFrame\n",
    "speeds_result = speeds_query_job.to_dataframe()\n",
    "\n",
    "# View results\n",
    "print(speeds_result)"
   ]
  },
  {
   "cell_type": "code",
   "execution_count": null,
   "metadata": {},
   "outputs": [],
   "source": []
  }
 ]
}