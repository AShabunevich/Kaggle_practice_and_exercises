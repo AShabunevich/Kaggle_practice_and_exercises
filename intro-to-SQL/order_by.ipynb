{
 "metadata": {
  "language_info": {
   "codemirror_mode": {
    "name": "ipython",
    "version": 3
   },
   "file_extension": ".py",
   "mimetype": "text/x-python",
   "name": "python",
   "nbconvert_exporter": "python",
   "pygments_lexer": "ipython3",
   "version": "3.8.5-final"
  },
  "orig_nbformat": 2,
  "kernelspec": {
   "name": "python3",
   "display_name": "Python 3",
   "language": "python"
  }
 },
 "nbformat": 4,
 "nbformat_minor": 2,
 "cells": [
  {
   "source": [
    "Load data and libraries."
   ],
   "cell_type": "markdown",
   "metadata": {}
  },
  {
   "cell_type": "code",
   "execution_count": 1,
   "metadata": {},
   "outputs": [],
   "source": [
    "import os\n",
    "os.environ[\"GOOGLE_APPLICATION_CREDENTIALS\"]=\"/Users/anastasiyashabunevich/Desktop/Kaggle/ashabunevich_key.json\""
   ]
  },
  {
   "cell_type": "code",
   "execution_count": 3,
   "metadata": {},
   "outputs": [
    {
     "output_type": "execute_result",
     "data": {
      "text/plain": [
       "   country_name country_code  \\\n",
       "0    Azerbaijan          AZE   \n",
       "1  Bahamas, The          BHS   \n",
       "2      Barbados          BRB   \n",
       "3       Belarus          BLR   \n",
       "4       Bermuda          BMU   \n",
       "5        Bhutan          BTN   \n",
       "6       Nigeria          NGA   \n",
       "7      Djibouti          DJI   \n",
       "8      Djibouti          DJI   \n",
       "9      Djibouti          DJI   \n",
       "\n",
       "                                      indicator_name        indicator_code  \\\n",
       "0                     Population, ages 15-64, female     SP.POP.1564.FE.IN   \n",
       "1  Population of the official entrance age to sec...   UIS.SAP.23.GPV.G1.M   \n",
       "2  Population of the official age for secondary e...     SP.SEC.TOTL.FE.IN   \n",
       "3  Population of the official age for pre-primary...     SP.PRE.TOTL.FE.IN   \n",
       "4  Official entrance age to upper secondary educa...     UIS.THAGE.3.A.GPV   \n",
       "5        Lower secondary completion rate, female (%)  SE.SEC.CMPT.LO.FE.ZS   \n",
       "6         GNI per capita, Atlas method (current US$)        NY.GNP.PCAP.CD   \n",
       "7  Population of the official age for pre-primary...        SP.PRE.TOTL.IN   \n",
       "8  Population of the official age for primary edu...        SP.PRM.TOTL.IN   \n",
       "9                      Population, ages 15-64, total        SP.POP.1564.TO   \n",
       "\n",
       "          value  year  \n",
       "0  3.514666e+06  2016  \n",
       "1  2.474000e+03  2016  \n",
       "2  9.259000e+03  2016  \n",
       "3  1.593500e+05  2016  \n",
       "4  1.400000e+01  2016  \n",
       "5  8.523189e+01  2016  \n",
       "6  2.450000e+03  2016  \n",
       "7  3.935700e+04  2016  \n",
       "8  9.524600e+04  2016  \n",
       "9  6.056380e+05  2016  "
      ],
      "text/html": "<div>\n<style scoped>\n    .dataframe tbody tr th:only-of-type {\n        vertical-align: middle;\n    }\n\n    .dataframe tbody tr th {\n        vertical-align: top;\n    }\n\n    .dataframe thead th {\n        text-align: right;\n    }\n</style>\n<table border=\"1\" class=\"dataframe\">\n  <thead>\n    <tr style=\"text-align: right;\">\n      <th></th>\n      <th>country_name</th>\n      <th>country_code</th>\n      <th>indicator_name</th>\n      <th>indicator_code</th>\n      <th>value</th>\n      <th>year</th>\n    </tr>\n  </thead>\n  <tbody>\n    <tr>\n      <th>0</th>\n      <td>Azerbaijan</td>\n      <td>AZE</td>\n      <td>Population, ages 15-64, female</td>\n      <td>SP.POP.1564.FE.IN</td>\n      <td>3.514666e+06</td>\n      <td>2016</td>\n    </tr>\n    <tr>\n      <th>1</th>\n      <td>Bahamas, The</td>\n      <td>BHS</td>\n      <td>Population of the official entrance age to sec...</td>\n      <td>UIS.SAP.23.GPV.G1.M</td>\n      <td>2.474000e+03</td>\n      <td>2016</td>\n    </tr>\n    <tr>\n      <th>2</th>\n      <td>Barbados</td>\n      <td>BRB</td>\n      <td>Population of the official age for secondary e...</td>\n      <td>SP.SEC.TOTL.FE.IN</td>\n      <td>9.259000e+03</td>\n      <td>2016</td>\n    </tr>\n    <tr>\n      <th>3</th>\n      <td>Belarus</td>\n      <td>BLR</td>\n      <td>Population of the official age for pre-primary...</td>\n      <td>SP.PRE.TOTL.FE.IN</td>\n      <td>1.593500e+05</td>\n      <td>2016</td>\n    </tr>\n    <tr>\n      <th>4</th>\n      <td>Bermuda</td>\n      <td>BMU</td>\n      <td>Official entrance age to upper secondary educa...</td>\n      <td>UIS.THAGE.3.A.GPV</td>\n      <td>1.400000e+01</td>\n      <td>2016</td>\n    </tr>\n    <tr>\n      <th>5</th>\n      <td>Bhutan</td>\n      <td>BTN</td>\n      <td>Lower secondary completion rate, female (%)</td>\n      <td>SE.SEC.CMPT.LO.FE.ZS</td>\n      <td>8.523189e+01</td>\n      <td>2016</td>\n    </tr>\n    <tr>\n      <th>6</th>\n      <td>Nigeria</td>\n      <td>NGA</td>\n      <td>GNI per capita, Atlas method (current US$)</td>\n      <td>NY.GNP.PCAP.CD</td>\n      <td>2.450000e+03</td>\n      <td>2016</td>\n    </tr>\n    <tr>\n      <th>7</th>\n      <td>Djibouti</td>\n      <td>DJI</td>\n      <td>Population of the official age for pre-primary...</td>\n      <td>SP.PRE.TOTL.IN</td>\n      <td>3.935700e+04</td>\n      <td>2016</td>\n    </tr>\n    <tr>\n      <th>8</th>\n      <td>Djibouti</td>\n      <td>DJI</td>\n      <td>Population of the official age for primary edu...</td>\n      <td>SP.PRM.TOTL.IN</td>\n      <td>9.524600e+04</td>\n      <td>2016</td>\n    </tr>\n    <tr>\n      <th>9</th>\n      <td>Djibouti</td>\n      <td>DJI</td>\n      <td>Population, ages 15-64, total</td>\n      <td>SP.POP.1564.TO</td>\n      <td>6.056380e+05</td>\n      <td>2016</td>\n    </tr>\n  </tbody>\n</table>\n</div>"
     },
     "metadata": {},
     "execution_count": 3
    }
   ],
   "source": [
    "from google.cloud import bigquery\n",
    "\n",
    "# Create a \"Client\" object\n",
    "client = bigquery.Client()\n",
    "\n",
    "# Construct a reference to the \"world_bank_intl_education\" dataset\n",
    "dataset_ref = client.dataset(\"world_bank_intl_education\", project=\"bigquery-public-data\")\n",
    "\n",
    "# API request - fetch the dataset\n",
    "dataset = client.get_dataset(dataset_ref)\n",
    "\n",
    "# Construct a reference to the \"international_education\" table\n",
    "table_ref = dataset_ref.table(\"international_education\")\n",
    "\n",
    "# API request - fetch the table\n",
    "table = client.get_table(table_ref)\n",
    "\n",
    "# Preview the first five lines of the \"international_education\" table\n",
    "client.list_rows(table, max_results=10).to_dataframe()"
   ]
  },
  {
   "source": [
    "### 1) Government expenditure on education\n",
    "\n",
    "Which countries spend the largest fraction of GDP on education?  \n",
    "\n",
    "To answer this question, consider only the rows in the dataset corresponding to indicator code `SE.XPD.TOTL.GD.ZS`, and write a query that returns the average value in the `value` column for each country in the dataset between the years 2010-2017 (including 2010 and 2017 in the average). \n",
    "\n",
    "Requirements:\n",
    "- Your results should have the country name rather than the country code. You will have one row for each country.\n",
    "- The aggregate function for average is **AVG()**.  Use the name `avg_ed_spending_pct` for the column created by this aggregation.\n",
    "- Order the results so the countries that spend the largest fraction of GDP on education show up first."
   ],
   "cell_type": "markdown",
   "metadata": {}
  },
  {
   "cell_type": "code",
   "execution_count": 4,
   "metadata": {},
   "outputs": [
    {
     "output_type": "stream",
     "name": "stdout",
     "text": [
      "   avg_ed_spending_pct           country_name\n0            12.837270                   Cuba\n1            12.467750  Micronesia, Fed. Sts.\n2            10.001080        Solomon Islands\n3             8.372153                Moldova\n4             8.349610                Namibia\n"
     ]
    }
   ],
   "source": [
    "#query to find countries that spend the largest GDP on education\n",
    "country_spend_pct_query = \"\"\"\n",
    "                          SELECT AVG(value) AS avg_ed_spending_pct, country_name\n",
    "                          FROM `bigquery-public-data.world_bank_intl_education.international_education`\n",
    "                          WHERE indicator_code = 'SE.XPD.TOTL.GD.ZS' AND year BETWEEN 2010 AND 2017\n",
    "                          GROUP BY country_name\n",
    "                          ORDER BY avg_ed_spending_pct DESC\n",
    "                          \"\"\"\n",
    "\n",
    "# Set up the query to 1 GB\n",
    "safe_config = bigquery.QueryJobConfig(maximum_bytes_billed=10**10)\n",
    "country_spend_pct_query_job = client.query(country_spend_pct_query, job_config=safe_config)\n",
    "\n",
    "# API request - run the query, and return a pandas DataFrame\n",
    "country_spending_results = country_spend_pct_query_job.to_dataframe()\n",
    "\n",
    "# View top few rows of results\n",
    "print(country_spending_results.head())"
   ]
  },
  {
   "source": [
    "### 2) Identify interesting codes to explore\n",
    "\n",
    "The last question started by telling you to focus on rows with the code `SE.XPD.TOTL.GD.ZS`. But how would you find more interesting indicator codes to explore?\n",
    "\n",
    "There are 1000s of codes in the dataset, so it would be time consuming to review them all. But many codes are available for only a few countries. When browsing the options for different codes, you might restrict yourself to codes that are reported by many countries.\n",
    "\n",
    "Write a query below that selects the indicator code and indicator name for all codes with at least 175 rows in the year 2016.\n",
    "\n",
    "Requirements:\n",
    "- You should have one row for each indicator code.\n",
    "- The columns in your results should be called `indicator_code`, `indicator_name`, and `num_rows`.\n",
    "- Only select codes with 175 or more rows in the raw database (exactly 175 rows would be included).\n",
    "- To get both the `indicator_code` and `indicator_name` in your resulting DataFrame, you need to include both in your **SELECT** statement (in addition to a **COUNT()** aggregation). This requires you to include both in your **GROUP BY** clause.\n",
    "- Order from results most frequent to least frequent."
   ],
   "cell_type": "markdown",
   "metadata": {}
  },
  {
   "cell_type": "code",
   "execution_count": 5,
   "metadata": {},
   "outputs": [
    {
     "output_type": "stream",
     "name": "stdout",
     "text": [
      "      indicator_code                   indicator_name  num_rows\n0        SP.POP.GROW     Population growth (annual %)       232\n1        SP.POP.TOTL                Population, total       232\n2     IT.NET.USER.P2  Internet users (per 100 people)       223\n3  SP.POP.1564.FE.IN   Population, ages 15-64, female       213\n4     SP.POP.1564.TO    Population, ages 15-64, total       213\n"
     ]
    }
   ],
   "source": [
    "#query selects the indicator code that appears most often during 2016\n",
    "code_count_query = \"\"\"\n",
    "                   SELECT indicator_code, indicator_name, COUNT(1) AS num_rows\n",
    "                   FROM `bigquery-public-data.world_bank_intl_education.international_education`\n",
    "                   WHERE year = 2016\n",
    "                   GROUP BY indicator_name, indicator_code\n",
    "                   HAVING COUNT(1) >= 175\n",
    "                   ORDER BY COUNT(1) DESC\n",
    "                   \"\"\"\n",
    "\n",
    "# Set up the query\n",
    "safe_config = bigquery.QueryJobConfig(maximum_bytes_billed=10**10)\n",
    "code_count_query_job = client.query(code_count_query, job_config=safe_config)\n",
    "\n",
    "# API request - run the query, and return a pandas DataFrame\n",
    "code_count_results = code_count_query_job.to_dataframe()\n",
    "\n",
    "# View top few rows of results\n",
    "print(code_count_results.head())"
   ]
  },
  {
   "cell_type": "code",
   "execution_count": null,
   "metadata": {},
   "outputs": [],
   "source": []
  }
 ]
}